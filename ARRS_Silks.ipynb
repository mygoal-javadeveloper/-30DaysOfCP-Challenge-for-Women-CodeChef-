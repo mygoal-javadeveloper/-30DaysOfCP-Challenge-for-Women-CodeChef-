{
  "nbformat": 4,
  "nbformat_minor": 0,
  "metadata": {
    "colab": {
      "name": "ARRS_Silks.ipynb",
      "provenance": [],
      "collapsed_sections": [],
      "include_colab_link": true
    },
    "kernelspec": {
      "name": "python3",
      "display_name": "Python 3"
    },
    "language_info": {
      "name": "python"
    }
  },
  "cells": [
    {
      "cell_type": "markdown",
      "metadata": {
        "id": "view-in-github",
        "colab_type": "text"
      },
      "source": [
        "<a href=\"https://colab.research.google.com/github/mygoal-javadeveloper/-30DaysOfCP-Challenge-for-Women-CodeChef-/blob/master/ARRS_Silks.ipynb\" target=\"_parent\"><img src=\"https://colab.research.google.com/assets/colab-badge.svg\" alt=\"Open In Colab\"/></a>"
      ]
    },
    {
      "cell_type": "code",
      "metadata": {
        "colab": {
          "base_uri": "https://localhost:8080/"
        },
        "id": "RfvgumajdLfn",
        "outputId": "56b580ab-9982-4756-ba7f-0521ea605306"
      },
      "source": [
        "pip install tabula-py"
      ],
      "execution_count": 1,
      "outputs": [
        {
          "output_type": "stream",
          "name": "stdout",
          "text": [
            "Collecting tabula-py\n",
            "  Downloading tabula_py-2.3.0-py3-none-any.whl (12.0 MB)\n",
            "\u001b[K     |████████████████████████████████| 12.0 MB 92 kB/s \n",
            "\u001b[?25hRequirement already satisfied: numpy in /usr/local/lib/python3.7/dist-packages (from tabula-py) (1.19.5)\n",
            "Requirement already satisfied: pandas>=0.25.3 in /usr/local/lib/python3.7/dist-packages (from tabula-py) (1.1.5)\n",
            "Collecting distro\n",
            "  Downloading distro-1.6.0-py2.py3-none-any.whl (19 kB)\n",
            "Requirement already satisfied: python-dateutil>=2.7.3 in /usr/local/lib/python3.7/dist-packages (from pandas>=0.25.3->tabula-py) (2.8.2)\n",
            "Requirement already satisfied: pytz>=2017.2 in /usr/local/lib/python3.7/dist-packages (from pandas>=0.25.3->tabula-py) (2018.9)\n",
            "Requirement already satisfied: six>=1.5 in /usr/local/lib/python3.7/dist-packages (from python-dateutil>=2.7.3->pandas>=0.25.3->tabula-py) (1.15.0)\n",
            "Installing collected packages: distro, tabula-py\n",
            "Successfully installed distro-1.6.0 tabula-py-2.3.0\n"
          ]
        }
      ]
    },
    {
      "cell_type": "code",
      "metadata": {
        "id": "ZMJX0SvXdWuL"
      },
      "source": [
        "import numpy as np\n",
        "import pandas as pd\n",
        "import tabula\n",
        "from pandas import DataFrame\n",
        "from tabulate import tabulate\n",
        "import json\n",
        "\n",
        "import warnings\n",
        "warnings.filterwarnings('ignore')\n"
      ],
      "execution_count": 2,
      "outputs": []
    },
    {
      "cell_type": "code",
      "metadata": {
        "colab": {
          "resources": {
            "http://localhost:8080/nbextensions/google.colab/files.js": {
              "data": "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",
              "ok": true,
              "headers": [
                [
                  "content-length",
                  "5271"
                ],
                [
                  "content-type",
                  "application/javascript"
                ]
              ],
              "status": 200,
              "status_text": "OK"
            }
          },
          "base_uri": "https://localhost:8080/",
          "height": 108
        },
        "id": "HlaW9sh8m06p",
        "outputId": "ac213d70-5ccf-4a9e-ed32-545a060f99d8"
      },
      "source": [
        "from google.colab import files\n",
        "uploaded = files.upload()"
      ],
      "execution_count": 3,
      "outputs": [
        {
          "output_type": "display_data",
          "data": {
            "text/html": [
              "\n",
              "     <input type=\"file\" id=\"files-94a57254-2d86-48df-a372-7aef01ac87a8\" name=\"files[]\" multiple disabled\n",
              "        style=\"border:none\" />\n",
              "     <output id=\"result-94a57254-2d86-48df-a372-7aef01ac87a8\">\n",
              "      Upload widget is only available when the cell has been executed in the\n",
              "      current browser session. Please rerun this cell to enable.\n",
              "      </output>\n",
              "      <script src=\"/nbextensions/google.colab/files.js\"></script> "
            ],
            "text/plain": [
              "<IPython.core.display.HTML object>"
            ]
          },
          "metadata": {}
        },
        {
          "output_type": "stream",
          "name": "stdout",
          "text": [
            "Saving ARRS Silks INC Note.pdf to ARRS Silks INC Note.pdf\n",
            "Saving companybriefprofile.csv to companybriefprofile.csv\n"
          ]
        }
      ]
    },
    {
      "cell_type": "code",
      "metadata": {
        "colab": {
          "base_uri": "https://localhost:8080/",
          "height": 707
        },
        "id": "FlR_pTvwm0TA",
        "outputId": "024c5d9e-ed34-41fe-fcd2-25cce41a7718"
      },
      "source": [
        "companydf = tabula.read_pdf('ARRS Silks INC Note.pdf',  pages='15', multiple_tables=True, stream=True, format='dataframe', pandas_options={'header': None})[2]\n",
        "companydf"
      ],
      "execution_count": 5,
      "outputs": [
        {
          "output_type": "execute_result",
          "data": {
            "text/html": [
              "<div>\n",
              "<style scoped>\n",
              "    .dataframe tbody tr th:only-of-type {\n",
              "        vertical-align: middle;\n",
              "    }\n",
              "\n",
              "    .dataframe tbody tr th {\n",
              "        vertical-align: top;\n",
              "    }\n",
              "\n",
              "    .dataframe thead th {\n",
              "        text-align: right;\n",
              "    }\n",
              "</style>\n",
              "<table border=\"1\" class=\"dataframe\">\n",
              "  <thead>\n",
              "    <tr style=\"text-align: right;\">\n",
              "      <th></th>\n",
              "      <th>0</th>\n",
              "      <th>1</th>\n",
              "      <th>2</th>\n",
              "    </tr>\n",
              "  </thead>\n",
              "  <tbody>\n",
              "    <tr>\n",
              "      <th>0</th>\n",
              "      <td>Sr. No.</td>\n",
              "      <td>Particulars</td>\n",
              "      <td>Details</td>\n",
              "    </tr>\n",
              "    <tr>\n",
              "      <th>1</th>\n",
              "      <td>1</td>\n",
              "      <td>Managing Partner</td>\n",
              "      <td>Shri. S. Ravichandran, S/o R. Srinivasan</td>\n",
              "    </tr>\n",
              "    <tr>\n",
              "      <th>2</th>\n",
              "      <td>2</td>\n",
              "      <td>Date of Incorporation</td>\n",
              "      <td>1997</td>\n",
              "    </tr>\n",
              "    <tr>\n",
              "      <th>3</th>\n",
              "      <td>3</td>\n",
              "      <td>Constitution</td>\n",
              "      <td>Partnership</td>\n",
              "    </tr>\n",
              "    <tr>\n",
              "      <th>4</th>\n",
              "      <td>4</td>\n",
              "      <td>Shareholding Pattern</td>\n",
              "      <td>S. Ravichandran – 70% Share</td>\n",
              "    </tr>\n",
              "    <tr>\n",
              "      <th>5</th>\n",
              "      <td>NaN</td>\n",
              "      <td>NaN</td>\n",
              "      <td>R. Karthick Balaji – 30% share</td>\n",
              "    </tr>\n",
              "    <tr>\n",
              "      <th>6</th>\n",
              "      <td>5</td>\n",
              "      <td>Group</td>\n",
              "      <td>ARRS Group</td>\n",
              "    </tr>\n",
              "    <tr>\n",
              "      <th>7</th>\n",
              "      <td>6</td>\n",
              "      <td>Nature of Business</td>\n",
              "      <td>Retail Trading- Apparels &amp; Baby products</td>\n",
              "    </tr>\n",
              "    <tr>\n",
              "      <th>8</th>\n",
              "      <td>7</td>\n",
              "      <td>Outlook on industry</td>\n",
              "      <td>Stable.</td>\n",
              "    </tr>\n",
              "    <tr>\n",
              "      <th>9</th>\n",
              "      <td>8</td>\n",
              "      <td>Registered Office/Corporate</td>\n",
              "      <td>No. 7,8 &amp; 9, Car Street, Salem- 636001, Tamil ...</td>\n",
              "    </tr>\n",
              "    <tr>\n",
              "      <th>10</th>\n",
              "      <td>NaN</td>\n",
              "      <td>Office/Administrative office</td>\n",
              "      <td>NaN</td>\n",
              "    </tr>\n",
              "    <tr>\n",
              "      <th>11</th>\n",
              "      <td>9</td>\n",
              "      <td>Controlling Office</td>\n",
              "      <td>Same as above</td>\n",
              "    </tr>\n",
              "    <tr>\n",
              "      <th>12</th>\n",
              "      <td>10</td>\n",
              "      <td>Showroom locations</td>\n",
              "      <td>2 showrooms in Salem</td>\n",
              "    </tr>\n",
              "    <tr>\n",
              "      <th>13</th>\n",
              "      <td>NaN</td>\n",
              "      <td>NaN</td>\n",
              "      <td>1 showroom in Hosur</td>\n",
              "    </tr>\n",
              "    <tr>\n",
              "      <th>14</th>\n",
              "      <td>NaN</td>\n",
              "      <td>NaN</td>\n",
              "      <td>1 showroom in Namakkal</td>\n",
              "    </tr>\n",
              "    <tr>\n",
              "      <th>15</th>\n",
              "      <td>11</td>\n",
              "      <td>Auditors</td>\n",
              "      <td>Mr Ashok Duraisamy, B.Com., F.C.A, Salem</td>\n",
              "    </tr>\n",
              "    <tr>\n",
              "      <th>16</th>\n",
              "      <td>12</td>\n",
              "      <td>Tangible Networth</td>\n",
              "      <td>Rs.17.75 crore as on March 31, 2018</td>\n",
              "    </tr>\n",
              "    <tr>\n",
              "      <th>17</th>\n",
              "      <td>13</td>\n",
              "      <td>Status of No-defaults and Delays</td>\n",
              "      <td>No as per NDS dated January 01, 2019</td>\n",
              "    </tr>\n",
              "    <tr>\n",
              "      <th>18</th>\n",
              "      <td>14</td>\n",
              "      <td>Wilful Defaulter as per CIBIL?</td>\n",
              "      <td>No as on December 31, 2018</td>\n",
              "    </tr>\n",
              "    <tr>\n",
              "      <th>19</th>\n",
              "      <td>15</td>\n",
              "      <td>Outstanding ratings</td>\n",
              "      <td>CARE BB- (Reaffirmed on March 19, 2018)</td>\n",
              "    </tr>\n",
              "    <tr>\n",
              "      <th>20</th>\n",
              "      <td>16</td>\n",
              "      <td>Ratings of other rating agencies</td>\n",
              "      <td>Nil</td>\n",
              "    </tr>\n",
              "  </tbody>\n",
              "</table>\n",
              "</div>"
            ],
            "text/plain": [
              "          0  ...                                                  2\n",
              "0   Sr. No.  ...                                            Details\n",
              "1         1  ...           Shri. S. Ravichandran, S/o R. Srinivasan\n",
              "2         2  ...                                               1997\n",
              "3         3  ...                                        Partnership\n",
              "4         4  ...                        S. Ravichandran – 70% Share\n",
              "5       NaN  ...                     R. Karthick Balaji – 30% share\n",
              "6         5  ...                                         ARRS Group\n",
              "7         6  ...           Retail Trading- Apparels & Baby products\n",
              "8         7  ...                                            Stable.\n",
              "9         8  ...  No. 7,8 & 9, Car Street, Salem- 636001, Tamil ...\n",
              "10      NaN  ...                                                NaN\n",
              "11        9  ...                                      Same as above\n",
              "12       10  ...                               2 showrooms in Salem\n",
              "13      NaN  ...                                1 showroom in Hosur\n",
              "14      NaN  ...                             1 showroom in Namakkal\n",
              "15       11  ...           Mr Ashok Duraisamy, B.Com., F.C.A, Salem\n",
              "16       12  ...                Rs.17.75 crore as on March 31, 2018\n",
              "17       13  ...               No as per NDS dated January 01, 2019\n",
              "18       14  ...                         No as on December 31, 2018\n",
              "19       15  ...            CARE BB- (Reaffirmed on March 19, 2018)\n",
              "20       16  ...                                                Nil\n",
              "\n",
              "[21 rows x 3 columns]"
            ]
          },
          "metadata": {},
          "execution_count": 5
        }
      ]
    },
    {
      "cell_type": "code",
      "metadata": {
        "colab": {
          "base_uri": "https://localhost:8080/"
        },
        "id": "MlH9RjCxuPTe",
        "outputId": "f3ed70fd-0407-4652-b8ca-2c0bb2c1f088"
      },
      "source": [
        "type(companydf)"
      ],
      "execution_count": 6,
      "outputs": [
        {
          "output_type": "execute_result",
          "data": {
            "text/plain": [
              "pandas.core.frame.DataFrame"
            ]
          },
          "metadata": {},
          "execution_count": 6
        }
      ]
    },
    {
      "cell_type": "code",
      "metadata": {
        "id": "n8CThBwrW_8I",
        "colab": {
          "base_uri": "https://localhost:8080/",
          "height": 111
        },
        "outputId": "2c8cb169-4c57-4fbf-e573-18042e770bb3"
      },
      "source": [
        "# companydf2 = tabula.read_pdf('Ansal Properties & Infrastructure Ltd INC Note.pdf',  pages='27', multiple_tables=True, stream=True, format='dataframe', pandas_options={'header': None})[0]\n",
        "# companydf2"
      ],
      "execution_count": null,
      "outputs": [
        {
          "output_type": "execute_result",
          "data": {
            "text/html": [
              "<div>\n",
              "<style scoped>\n",
              "    .dataframe tbody tr th:only-of-type {\n",
              "        vertical-align: middle;\n",
              "    }\n",
              "\n",
              "    .dataframe tbody tr th {\n",
              "        vertical-align: top;\n",
              "    }\n",
              "\n",
              "    .dataframe thead th {\n",
              "        text-align: right;\n",
              "    }\n",
              "</style>\n",
              "<table border=\"1\" class=\"dataframe\">\n",
              "  <thead>\n",
              "    <tr style=\"text-align: right;\">\n",
              "      <th></th>\n",
              "      <th>0</th>\n",
              "      <th>1</th>\n",
              "      <th>2</th>\n",
              "    </tr>\n",
              "  </thead>\n",
              "  <tbody>\n",
              "    <tr>\n",
              "      <th>0</th>\n",
              "      <td>Sr. No.</td>\n",
              "      <td>Particulars</td>\n",
              "      <td>Details</td>\n",
              "    </tr>\n",
              "    <tr>\n",
              "      <th>1</th>\n",
              "      <td>NaN</td>\n",
              "      <td>NaN</td>\n",
              "      <td>Non-cooperation with other CRA(s): Not Applicable</td>\n",
              "    </tr>\n",
              "  </tbody>\n",
              "</table>\n",
              "</div>"
            ],
            "text/plain": [
              "         0            1                                                  2\n",
              "0  Sr. No.  Particulars                                            Details\n",
              "1      NaN          NaN  Non-cooperation with other CRA(s): Not Applicable"
            ]
          },
          "metadata": {},
          "execution_count": 6
        }
      ]
    },
    {
      "cell_type": "code",
      "metadata": {
        "id": "nouKm-cnZ4uj",
        "colab": {
          "base_uri": "https://localhost:8080/"
        },
        "outputId": "a9160407-2829-4a27-f731-aa97b3de25c1"
      },
      "source": [
        "# type(companydf2)"
      ],
      "execution_count": null,
      "outputs": [
        {
          "output_type": "execute_result",
          "data": {
            "text/plain": [
              "pandas.core.frame.DataFrame"
            ]
          },
          "metadata": {},
          "execution_count": 7
        }
      ]
    },
    {
      "cell_type": "code",
      "metadata": {
        "id": "_Bc2sEuIaAMO"
      },
      "source": [
        "companydf.drop(labels = [0], axis = 0, inplace = True)"
      ],
      "execution_count": 7,
      "outputs": []
    },
    {
      "cell_type": "code",
      "metadata": {
        "id": "T5QVIS0lbl4o"
      },
      "source": [
        "# companydf2.drop(labels = [0], axis = 0, inplace = True)"
      ],
      "execution_count": null,
      "outputs": []
    },
    {
      "cell_type": "code",
      "metadata": {
        "id": "KNEHg_9Pb7_w"
      },
      "source": [
        "companydf.reset_index(drop = True, inplace = True)"
      ],
      "execution_count": 8,
      "outputs": []
    },
    {
      "cell_type": "code",
      "metadata": {
        "id": "BoyHZLNchmgx"
      },
      "source": [
        "# companydf2.reset_index(drop = True, inplace = True)"
      ],
      "execution_count": null,
      "outputs": []
    },
    {
      "cell_type": "code",
      "metadata": {
        "id": "qP8KJzcqhPpW",
        "colab": {
          "base_uri": "https://localhost:8080/",
          "height": 669
        },
        "outputId": "91e283fa-59a6-4a5e-8be9-07af51d968f2"
      },
      "source": [
        "# companydf1"
      ],
      "execution_count": null,
      "outputs": [
        {
          "output_type": "execute_result",
          "data": {
            "text/html": [
              "<div>\n",
              "<style scoped>\n",
              "    .dataframe tbody tr th:only-of-type {\n",
              "        vertical-align: middle;\n",
              "    }\n",
              "\n",
              "    .dataframe tbody tr th {\n",
              "        vertical-align: top;\n",
              "    }\n",
              "\n",
              "    .dataframe thead th {\n",
              "        text-align: right;\n",
              "    }\n",
              "</style>\n",
              "<table border=\"1\" class=\"dataframe\">\n",
              "  <thead>\n",
              "    <tr style=\"text-align: right;\">\n",
              "      <th></th>\n",
              "      <th>0</th>\n",
              "      <th>1</th>\n",
              "      <th>2</th>\n",
              "    </tr>\n",
              "  </thead>\n",
              "  <tbody>\n",
              "    <tr>\n",
              "      <th>0</th>\n",
              "      <td>1</td>\n",
              "      <td>Managing Partner</td>\n",
              "      <td>Shri. S. Ravichandran, S/o R. Srinivasan</td>\n",
              "    </tr>\n",
              "    <tr>\n",
              "      <th>1</th>\n",
              "      <td>2</td>\n",
              "      <td>Date of Incorporation</td>\n",
              "      <td>1997</td>\n",
              "    </tr>\n",
              "    <tr>\n",
              "      <th>2</th>\n",
              "      <td>3</td>\n",
              "      <td>Constitution</td>\n",
              "      <td>Partnership</td>\n",
              "    </tr>\n",
              "    <tr>\n",
              "      <th>3</th>\n",
              "      <td>4</td>\n",
              "      <td>Shareholding Pattern</td>\n",
              "      <td>S. Ravichandran – 70% Share</td>\n",
              "    </tr>\n",
              "    <tr>\n",
              "      <th>4</th>\n",
              "      <td>NaN</td>\n",
              "      <td>NaN</td>\n",
              "      <td>R. Karthick Balaji – 30% share</td>\n",
              "    </tr>\n",
              "    <tr>\n",
              "      <th>5</th>\n",
              "      <td>5</td>\n",
              "      <td>Group</td>\n",
              "      <td>ARRS Group</td>\n",
              "    </tr>\n",
              "    <tr>\n",
              "      <th>6</th>\n",
              "      <td>6</td>\n",
              "      <td>Nature of Business</td>\n",
              "      <td>Retail Trading- Apparels &amp; Baby products</td>\n",
              "    </tr>\n",
              "    <tr>\n",
              "      <th>7</th>\n",
              "      <td>7</td>\n",
              "      <td>Outlook on industry</td>\n",
              "      <td>Stable.</td>\n",
              "    </tr>\n",
              "    <tr>\n",
              "      <th>8</th>\n",
              "      <td>8</td>\n",
              "      <td>Registered Office/Corporate</td>\n",
              "      <td>No. 7,8 &amp; 9, Car Street, Salem- 636001, Tamil ...</td>\n",
              "    </tr>\n",
              "    <tr>\n",
              "      <th>9</th>\n",
              "      <td>NaN</td>\n",
              "      <td>Office/Administrative office</td>\n",
              "      <td>NaN</td>\n",
              "    </tr>\n",
              "    <tr>\n",
              "      <th>10</th>\n",
              "      <td>9</td>\n",
              "      <td>Controlling Office</td>\n",
              "      <td>Same as above</td>\n",
              "    </tr>\n",
              "    <tr>\n",
              "      <th>11</th>\n",
              "      <td>10</td>\n",
              "      <td>Showroom locations</td>\n",
              "      <td>2 showrooms in Salem</td>\n",
              "    </tr>\n",
              "    <tr>\n",
              "      <th>12</th>\n",
              "      <td>NaN</td>\n",
              "      <td>NaN</td>\n",
              "      <td>1 showroom in Hosur</td>\n",
              "    </tr>\n",
              "    <tr>\n",
              "      <th>13</th>\n",
              "      <td>NaN</td>\n",
              "      <td>NaN</td>\n",
              "      <td>1 showroom in Namakkal</td>\n",
              "    </tr>\n",
              "    <tr>\n",
              "      <th>14</th>\n",
              "      <td>11</td>\n",
              "      <td>Auditors</td>\n",
              "      <td>Mr Ashok Duraisamy, B.Com., F.C.A, Salem</td>\n",
              "    </tr>\n",
              "    <tr>\n",
              "      <th>15</th>\n",
              "      <td>12</td>\n",
              "      <td>Tangible Networth</td>\n",
              "      <td>Rs.17.75 crore as on March 31, 2018</td>\n",
              "    </tr>\n",
              "    <tr>\n",
              "      <th>16</th>\n",
              "      <td>13</td>\n",
              "      <td>Status of No-defaults and Delays</td>\n",
              "      <td>No as per NDS dated January 01, 2019</td>\n",
              "    </tr>\n",
              "    <tr>\n",
              "      <th>17</th>\n",
              "      <td>14</td>\n",
              "      <td>Wilful Defaulter as per CIBIL?</td>\n",
              "      <td>No as on December 31, 2018</td>\n",
              "    </tr>\n",
              "    <tr>\n",
              "      <th>18</th>\n",
              "      <td>15</td>\n",
              "      <td>Outstanding ratings</td>\n",
              "      <td>CARE BB- (Reaffirmed on March 19, 2018)</td>\n",
              "    </tr>\n",
              "    <tr>\n",
              "      <th>19</th>\n",
              "      <td>16</td>\n",
              "      <td>Ratings of other rating agencies</td>\n",
              "      <td>Nil</td>\n",
              "    </tr>\n",
              "  </tbody>\n",
              "</table>\n",
              "</div>"
            ],
            "text/plain": [
              "      0  ...                                                  2\n",
              "0     1  ...           Shri. S. Ravichandran, S/o R. Srinivasan\n",
              "1     2  ...                                               1997\n",
              "2     3  ...                                        Partnership\n",
              "3     4  ...                        S. Ravichandran – 70% Share\n",
              "4   NaN  ...                     R. Karthick Balaji – 30% share\n",
              "5     5  ...                                         ARRS Group\n",
              "6     6  ...           Retail Trading- Apparels & Baby products\n",
              "7     7  ...                                            Stable.\n",
              "8     8  ...  No. 7,8 & 9, Car Street, Salem- 636001, Tamil ...\n",
              "9   NaN  ...                                                NaN\n",
              "10    9  ...                                      Same as above\n",
              "11   10  ...                               2 showrooms in Salem\n",
              "12  NaN  ...                                1 showroom in Hosur\n",
              "13  NaN  ...                             1 showroom in Namakkal\n",
              "14   11  ...           Mr Ashok Duraisamy, B.Com., F.C.A, Salem\n",
              "15   12  ...                Rs.17.75 crore as on March 31, 2018\n",
              "16   13  ...               No as per NDS dated January 01, 2019\n",
              "17   14  ...                         No as on December 31, 2018\n",
              "18   15  ...            CARE BB- (Reaffirmed on March 19, 2018)\n",
              "19   16  ...                                                Nil\n",
              "\n",
              "[20 rows x 3 columns]"
            ]
          },
          "metadata": {},
          "execution_count": 9
        }
      ]
    },
    {
      "cell_type": "code",
      "metadata": {
        "id": "SqXagqqKhtDx",
        "colab": {
          "base_uri": "https://localhost:8080/",
          "height": 80
        },
        "outputId": "d03566d9-a4e6-484c-ce7e-2358bdb36c68"
      },
      "source": [
        "# companydf2"
      ],
      "execution_count": null,
      "outputs": [
        {
          "output_type": "execute_result",
          "data": {
            "text/html": [
              "<div>\n",
              "<style scoped>\n",
              "    .dataframe tbody tr th:only-of-type {\n",
              "        vertical-align: middle;\n",
              "    }\n",
              "\n",
              "    .dataframe tbody tr th {\n",
              "        vertical-align: top;\n",
              "    }\n",
              "\n",
              "    .dataframe thead th {\n",
              "        text-align: right;\n",
              "    }\n",
              "</style>\n",
              "<table border=\"1\" class=\"dataframe\">\n",
              "  <thead>\n",
              "    <tr style=\"text-align: right;\">\n",
              "      <th></th>\n",
              "      <th>0</th>\n",
              "      <th>1</th>\n",
              "      <th>2</th>\n",
              "    </tr>\n",
              "  </thead>\n",
              "  <tbody>\n",
              "    <tr>\n",
              "      <th>0</th>\n",
              "      <td>NaN</td>\n",
              "      <td>NaN</td>\n",
              "      <td>Non-cooperation with other CRA(s): Not Applicable</td>\n",
              "    </tr>\n",
              "  </tbody>\n",
              "</table>\n",
              "</div>"
            ],
            "text/plain": [
              "     0    1                                                  2\n",
              "0  NaN  NaN  Non-cooperation with other CRA(s): Not Applicable"
            ]
          },
          "metadata": {},
          "execution_count": 13
        }
      ]
    },
    {
      "cell_type": "code",
      "metadata": {
        "id": "CuwNx5zGhySi"
      },
      "source": [
        "# frames = [companydf1, companydf2]\n",
        "# companydf = pd.concat(frames)"
      ],
      "execution_count": null,
      "outputs": []
    },
    {
      "cell_type": "code",
      "metadata": {
        "id": "HWzMx0-DjUx6"
      },
      "source": [
        "# companydf.reset_index(drop = True, inplace = True)"
      ],
      "execution_count": null,
      "outputs": []
    },
    {
      "cell_type": "code",
      "metadata": {
        "colab": {
          "base_uri": "https://localhost:8080/",
          "height": 676
        },
        "id": "DQ1h3-IYjbPM",
        "outputId": "74fdb295-d6fc-41b9-d089-79daa021df6c"
      },
      "source": [
        "companydf"
      ],
      "execution_count": 9,
      "outputs": [
        {
          "output_type": "execute_result",
          "data": {
            "text/html": [
              "<div>\n",
              "<style scoped>\n",
              "    .dataframe tbody tr th:only-of-type {\n",
              "        vertical-align: middle;\n",
              "    }\n",
              "\n",
              "    .dataframe tbody tr th {\n",
              "        vertical-align: top;\n",
              "    }\n",
              "\n",
              "    .dataframe thead th {\n",
              "        text-align: right;\n",
              "    }\n",
              "</style>\n",
              "<table border=\"1\" class=\"dataframe\">\n",
              "  <thead>\n",
              "    <tr style=\"text-align: right;\">\n",
              "      <th></th>\n",
              "      <th>0</th>\n",
              "      <th>1</th>\n",
              "      <th>2</th>\n",
              "    </tr>\n",
              "  </thead>\n",
              "  <tbody>\n",
              "    <tr>\n",
              "      <th>0</th>\n",
              "      <td>1</td>\n",
              "      <td>Managing Partner</td>\n",
              "      <td>Shri. S. Ravichandran, S/o R. Srinivasan</td>\n",
              "    </tr>\n",
              "    <tr>\n",
              "      <th>1</th>\n",
              "      <td>2</td>\n",
              "      <td>Date of Incorporation</td>\n",
              "      <td>1997</td>\n",
              "    </tr>\n",
              "    <tr>\n",
              "      <th>2</th>\n",
              "      <td>3</td>\n",
              "      <td>Constitution</td>\n",
              "      <td>Partnership</td>\n",
              "    </tr>\n",
              "    <tr>\n",
              "      <th>3</th>\n",
              "      <td>4</td>\n",
              "      <td>Shareholding Pattern</td>\n",
              "      <td>S. Ravichandran – 70% Share</td>\n",
              "    </tr>\n",
              "    <tr>\n",
              "      <th>4</th>\n",
              "      <td>NaN</td>\n",
              "      <td>NaN</td>\n",
              "      <td>R. Karthick Balaji – 30% share</td>\n",
              "    </tr>\n",
              "    <tr>\n",
              "      <th>5</th>\n",
              "      <td>5</td>\n",
              "      <td>Group</td>\n",
              "      <td>ARRS Group</td>\n",
              "    </tr>\n",
              "    <tr>\n",
              "      <th>6</th>\n",
              "      <td>6</td>\n",
              "      <td>Nature of Business</td>\n",
              "      <td>Retail Trading- Apparels &amp; Baby products</td>\n",
              "    </tr>\n",
              "    <tr>\n",
              "      <th>7</th>\n",
              "      <td>7</td>\n",
              "      <td>Outlook on industry</td>\n",
              "      <td>Stable.</td>\n",
              "    </tr>\n",
              "    <tr>\n",
              "      <th>8</th>\n",
              "      <td>8</td>\n",
              "      <td>Registered Office/Corporate</td>\n",
              "      <td>No. 7,8 &amp; 9, Car Street, Salem- 636001, Tamil ...</td>\n",
              "    </tr>\n",
              "    <tr>\n",
              "      <th>9</th>\n",
              "      <td>NaN</td>\n",
              "      <td>Office/Administrative office</td>\n",
              "      <td>NaN</td>\n",
              "    </tr>\n",
              "    <tr>\n",
              "      <th>10</th>\n",
              "      <td>9</td>\n",
              "      <td>Controlling Office</td>\n",
              "      <td>Same as above</td>\n",
              "    </tr>\n",
              "    <tr>\n",
              "      <th>11</th>\n",
              "      <td>10</td>\n",
              "      <td>Showroom locations</td>\n",
              "      <td>2 showrooms in Salem</td>\n",
              "    </tr>\n",
              "    <tr>\n",
              "      <th>12</th>\n",
              "      <td>NaN</td>\n",
              "      <td>NaN</td>\n",
              "      <td>1 showroom in Hosur</td>\n",
              "    </tr>\n",
              "    <tr>\n",
              "      <th>13</th>\n",
              "      <td>NaN</td>\n",
              "      <td>NaN</td>\n",
              "      <td>1 showroom in Namakkal</td>\n",
              "    </tr>\n",
              "    <tr>\n",
              "      <th>14</th>\n",
              "      <td>11</td>\n",
              "      <td>Auditors</td>\n",
              "      <td>Mr Ashok Duraisamy, B.Com., F.C.A, Salem</td>\n",
              "    </tr>\n",
              "    <tr>\n",
              "      <th>15</th>\n",
              "      <td>12</td>\n",
              "      <td>Tangible Networth</td>\n",
              "      <td>Rs.17.75 crore as on March 31, 2018</td>\n",
              "    </tr>\n",
              "    <tr>\n",
              "      <th>16</th>\n",
              "      <td>13</td>\n",
              "      <td>Status of No-defaults and Delays</td>\n",
              "      <td>No as per NDS dated January 01, 2019</td>\n",
              "    </tr>\n",
              "    <tr>\n",
              "      <th>17</th>\n",
              "      <td>14</td>\n",
              "      <td>Wilful Defaulter as per CIBIL?</td>\n",
              "      <td>No as on December 31, 2018</td>\n",
              "    </tr>\n",
              "    <tr>\n",
              "      <th>18</th>\n",
              "      <td>15</td>\n",
              "      <td>Outstanding ratings</td>\n",
              "      <td>CARE BB- (Reaffirmed on March 19, 2018)</td>\n",
              "    </tr>\n",
              "    <tr>\n",
              "      <th>19</th>\n",
              "      <td>16</td>\n",
              "      <td>Ratings of other rating agencies</td>\n",
              "      <td>Nil</td>\n",
              "    </tr>\n",
              "  </tbody>\n",
              "</table>\n",
              "</div>"
            ],
            "text/plain": [
              "      0  ...                                                  2\n",
              "0     1  ...           Shri. S. Ravichandran, S/o R. Srinivasan\n",
              "1     2  ...                                               1997\n",
              "2     3  ...                                        Partnership\n",
              "3     4  ...                        S. Ravichandran – 70% Share\n",
              "4   NaN  ...                     R. Karthick Balaji – 30% share\n",
              "5     5  ...                                         ARRS Group\n",
              "6     6  ...           Retail Trading- Apparels & Baby products\n",
              "7     7  ...                                            Stable.\n",
              "8     8  ...  No. 7,8 & 9, Car Street, Salem- 636001, Tamil ...\n",
              "9   NaN  ...                                                NaN\n",
              "10    9  ...                                      Same as above\n",
              "11   10  ...                               2 showrooms in Salem\n",
              "12  NaN  ...                                1 showroom in Hosur\n",
              "13  NaN  ...                             1 showroom in Namakkal\n",
              "14   11  ...           Mr Ashok Duraisamy, B.Com., F.C.A, Salem\n",
              "15   12  ...                Rs.17.75 crore as on March 31, 2018\n",
              "16   13  ...               No as per NDS dated January 01, 2019\n",
              "17   14  ...                         No as on December 31, 2018\n",
              "18   15  ...            CARE BB- (Reaffirmed on March 19, 2018)\n",
              "19   16  ...                                                Nil\n",
              "\n",
              "[20 rows x 3 columns]"
            ]
          },
          "metadata": {},
          "execution_count": 9
        }
      ]
    },
    {
      "cell_type": "code",
      "metadata": {
        "colab": {
          "base_uri": "https://localhost:8080/"
        },
        "id": "L8RjvMOe0SaS",
        "outputId": "2a69dbbc-f109-4c43-a2b0-8acce1272e1a"
      },
      "source": [
        "companydf.dtypes"
      ],
      "execution_count": 10,
      "outputs": [
        {
          "output_type": "execute_result",
          "data": {
            "text/plain": [
              "0    object\n",
              "1    object\n",
              "2    object\n",
              "dtype: object"
            ]
          },
          "metadata": {},
          "execution_count": 10
        }
      ]
    },
    {
      "cell_type": "code",
      "metadata": {
        "id": "gVU3REyZQMIn"
      },
      "source": [
        "# for idx, row in companydf.iterrows():\n",
        "#   if not pd.isnull(row[3]):\n",
        "#     companydf.at[idx, 2] = companydf.at[idx, 2] + ' ' + companydf.at[idx, 3]\n",
        "#   if not pd.isnull(row[4]):\n",
        "#     companydf.at[idx, 2] = companydf.at[idx, 2] + ' ' + companydf.at[idx, 4]"
      ],
      "execution_count": null,
      "outputs": []
    },
    {
      "cell_type": "code",
      "metadata": {
        "id": "merwmkquEbP0"
      },
      "source": [
        "# companydf.at[26, 2] = '5) Financial ratios – Non-Financial Sector.'"
      ],
      "execution_count": null,
      "outputs": []
    },
    {
      "cell_type": "code",
      "metadata": {
        "id": "hTUU_QjdE9Ht"
      },
      "source": [
        "# companydf.at[25, 2] = '4) CARE’s methodology for Infrastructure companies, '"
      ],
      "execution_count": null,
      "outputs": []
    },
    {
      "cell_type": "code",
      "metadata": {
        "id": "Ebxl8x9IFKPC"
      },
      "source": [
        "# companydf.at[24, 2] = '3) Criteria for Short Term Instruments, '"
      ],
      "execution_count": null,
      "outputs": []
    },
    {
      "cell_type": "code",
      "metadata": {
        "id": "AwrIgKjhFJ_-"
      },
      "source": [
        "# companydf.at[23, 2] = '2) CARE’s Policy on Default Recognition, '"
      ],
      "execution_count": null,
      "outputs": []
    },
    {
      "cell_type": "code",
      "metadata": {
        "id": "9vq1L7RUFNQO"
      },
      "source": [
        "# companydf.at[22, 2] = '1) Criteria on assigning Outlook to Credit Ratings, '"
      ],
      "execution_count": null,
      "outputs": []
    },
    {
      "cell_type": "code",
      "metadata": {
        "id": "K5b1xfdvE2bT"
      },
      "source": [
        "# companydf"
      ],
      "execution_count": null,
      "outputs": []
    },
    {
      "cell_type": "code",
      "metadata": {
        "id": "9EJsl9RDv4U6"
      },
      "source": [
        "row_labels = []\n",
        "for idx, row in companydf[::-1].iterrows():\n",
        "  if pd.isnull(row[0]):\n",
        "    if not pd.isnull(row[1]):\n",
        "      companydf.at[idx-1, 1] = companydf.at[idx-1, 1] + ' ' + companydf.at[idx, 1]\n",
        "      if idx not in row_labels:\n",
        "        row_labels.append(idx)\n",
        "    if not pd.isnull(row[2]):\n",
        "      companydf.at[idx-1, 2] = companydf.at[idx-1, 2] + ' ' + companydf.at[idx, 2]\n",
        "      if idx not in row_labels:\n",
        "        row_labels.append(idx)"
      ],
      "execution_count": 11,
      "outputs": []
    },
    {
      "cell_type": "code",
      "metadata": {
        "colab": {
          "base_uri": "https://localhost:8080/"
        },
        "id": "K81RbXVxRTjF",
        "outputId": "bfc77b0a-8ac2-4455-ad68-b02606de9005"
      },
      "source": [
        "row_labels"
      ],
      "execution_count": 12,
      "outputs": [
        {
          "output_type": "execute_result",
          "data": {
            "text/plain": [
              "[13, 12, 9, 4]"
            ]
          },
          "metadata": {},
          "execution_count": 12
        }
      ]
    },
    {
      "cell_type": "code",
      "metadata": {
        "colab": {
          "base_uri": "https://localhost:8080/",
          "height": 35
        },
        "id": "BabGWqzBMXM8",
        "outputId": "1d673fd4-257b-42bf-d23a-d74c5891f971"
      },
      "source": [
        "companydf.at[3, 2]"
      ],
      "execution_count": 13,
      "outputs": [
        {
          "output_type": "execute_result",
          "data": {
            "application/vnd.google.colaboratory.intrinsic+json": {
              "type": "string"
            },
            "text/plain": [
              "'S. Ravichandran – 70% Share R. Karthick Balaji – 30% share'"
            ]
          },
          "metadata": {},
          "execution_count": 13
        }
      ]
    },
    {
      "cell_type": "code",
      "metadata": {
        "colab": {
          "base_uri": "https://localhost:8080/"
        },
        "id": "6RKKh9akSPn9",
        "outputId": "905f0487-3c96-4a9d-d91d-3870e65e5034"
      },
      "source": [
        "companydf.at[8, 1], companydf.at[11, 2]"
      ],
      "execution_count": 15,
      "outputs": [
        {
          "output_type": "execute_result",
          "data": {
            "text/plain": [
              "('Registered Office/Corporate Office/Administrative office',\n",
              " '2 showrooms in Salem 1 showroom in Hosur 1 showroom in Namakkal')"
            ]
          },
          "metadata": {},
          "execution_count": 15
        }
      ]
    },
    {
      "cell_type": "code",
      "metadata": {
        "colab": {
          "base_uri": "https://localhost:8080/",
          "height": 35
        },
        "id": "jN5285rKHfPM",
        "outputId": "5b3601f4-9d30-4bfe-ae9c-369bcd0297fa"
      },
      "source": [
        "companydf.at[8,2]"
      ],
      "execution_count": 16,
      "outputs": [
        {
          "output_type": "execute_result",
          "data": {
            "application/vnd.google.colaboratory.intrinsic+json": {
              "type": "string"
            },
            "text/plain": [
              "'No. 7,8 & 9, Car Street, Salem- 636001, Tamil Nadu'"
            ]
          },
          "metadata": {},
          "execution_count": 16
        }
      ]
    },
    {
      "cell_type": "code",
      "metadata": {
        "id": "rpG49rhAHPB5"
      },
      "source": [
        "companydf.at[10, 2] = 'No. 7,8 & 9, Car Street, Salem- 636001, Tamil Nadu',"
      ],
      "execution_count": 17,
      "outputs": []
    },
    {
      "cell_type": "code",
      "metadata": {
        "id": "J8mB9giTbH4i"
      },
      "source": [
        "companydf.drop(labels = row_labels, axis = 0, inplace = True)"
      ],
      "execution_count": 18,
      "outputs": []
    },
    {
      "cell_type": "code",
      "metadata": {
        "id": "GM-0iMpVc0Ou"
      },
      "source": [
        "companydf.reset_index(drop = True, inplace = True)"
      ],
      "execution_count": 19,
      "outputs": []
    },
    {
      "cell_type": "code",
      "metadata": {
        "colab": {
          "base_uri": "https://localhost:8080/",
          "height": 551
        },
        "id": "o1nC9BhalpaT",
        "outputId": "09b6f764-4565-4650-b064-bf96f2083dc5"
      },
      "source": [
        "companydf"
      ],
      "execution_count": 20,
      "outputs": [
        {
          "output_type": "execute_result",
          "data": {
            "text/html": [
              "<div>\n",
              "<style scoped>\n",
              "    .dataframe tbody tr th:only-of-type {\n",
              "        vertical-align: middle;\n",
              "    }\n",
              "\n",
              "    .dataframe tbody tr th {\n",
              "        vertical-align: top;\n",
              "    }\n",
              "\n",
              "    .dataframe thead th {\n",
              "        text-align: right;\n",
              "    }\n",
              "</style>\n",
              "<table border=\"1\" class=\"dataframe\">\n",
              "  <thead>\n",
              "    <tr style=\"text-align: right;\">\n",
              "      <th></th>\n",
              "      <th>0</th>\n",
              "      <th>1</th>\n",
              "      <th>2</th>\n",
              "    </tr>\n",
              "  </thead>\n",
              "  <tbody>\n",
              "    <tr>\n",
              "      <th>0</th>\n",
              "      <td>1</td>\n",
              "      <td>Managing Partner</td>\n",
              "      <td>Shri. S. Ravichandran, S/o R. Srinivasan</td>\n",
              "    </tr>\n",
              "    <tr>\n",
              "      <th>1</th>\n",
              "      <td>2</td>\n",
              "      <td>Date of Incorporation</td>\n",
              "      <td>1997</td>\n",
              "    </tr>\n",
              "    <tr>\n",
              "      <th>2</th>\n",
              "      <td>3</td>\n",
              "      <td>Constitution</td>\n",
              "      <td>Partnership</td>\n",
              "    </tr>\n",
              "    <tr>\n",
              "      <th>3</th>\n",
              "      <td>4</td>\n",
              "      <td>Shareholding Pattern</td>\n",
              "      <td>S. Ravichandran – 70% Share R. Karthick Balaji...</td>\n",
              "    </tr>\n",
              "    <tr>\n",
              "      <th>4</th>\n",
              "      <td>5</td>\n",
              "      <td>Group</td>\n",
              "      <td>ARRS Group</td>\n",
              "    </tr>\n",
              "    <tr>\n",
              "      <th>5</th>\n",
              "      <td>6</td>\n",
              "      <td>Nature of Business</td>\n",
              "      <td>Retail Trading- Apparels &amp; Baby products</td>\n",
              "    </tr>\n",
              "    <tr>\n",
              "      <th>6</th>\n",
              "      <td>7</td>\n",
              "      <td>Outlook on industry</td>\n",
              "      <td>Stable.</td>\n",
              "    </tr>\n",
              "    <tr>\n",
              "      <th>7</th>\n",
              "      <td>8</td>\n",
              "      <td>Registered Office/Corporate Office/Administrat...</td>\n",
              "      <td>No. 7,8 &amp; 9, Car Street, Salem- 636001, Tamil ...</td>\n",
              "    </tr>\n",
              "    <tr>\n",
              "      <th>8</th>\n",
              "      <td>9</td>\n",
              "      <td>Controlling Office</td>\n",
              "      <td>(No. 7,8 &amp; 9, Car Street, Salem- 636001, Tamil...</td>\n",
              "    </tr>\n",
              "    <tr>\n",
              "      <th>9</th>\n",
              "      <td>10</td>\n",
              "      <td>Showroom locations</td>\n",
              "      <td>2 showrooms in Salem 1 showroom in Hosur 1 sho...</td>\n",
              "    </tr>\n",
              "    <tr>\n",
              "      <th>10</th>\n",
              "      <td>11</td>\n",
              "      <td>Auditors</td>\n",
              "      <td>Mr Ashok Duraisamy, B.Com., F.C.A, Salem</td>\n",
              "    </tr>\n",
              "    <tr>\n",
              "      <th>11</th>\n",
              "      <td>12</td>\n",
              "      <td>Tangible Networth</td>\n",
              "      <td>Rs.17.75 crore as on March 31, 2018</td>\n",
              "    </tr>\n",
              "    <tr>\n",
              "      <th>12</th>\n",
              "      <td>13</td>\n",
              "      <td>Status of No-defaults and Delays</td>\n",
              "      <td>No as per NDS dated January 01, 2019</td>\n",
              "    </tr>\n",
              "    <tr>\n",
              "      <th>13</th>\n",
              "      <td>14</td>\n",
              "      <td>Wilful Defaulter as per CIBIL?</td>\n",
              "      <td>No as on December 31, 2018</td>\n",
              "    </tr>\n",
              "    <tr>\n",
              "      <th>14</th>\n",
              "      <td>15</td>\n",
              "      <td>Outstanding ratings</td>\n",
              "      <td>CARE BB- (Reaffirmed on March 19, 2018)</td>\n",
              "    </tr>\n",
              "    <tr>\n",
              "      <th>15</th>\n",
              "      <td>16</td>\n",
              "      <td>Ratings of other rating agencies</td>\n",
              "      <td>Nil</td>\n",
              "    </tr>\n",
              "  </tbody>\n",
              "</table>\n",
              "</div>"
            ],
            "text/plain": [
              "     0  ...                                                  2\n",
              "0    1  ...           Shri. S. Ravichandran, S/o R. Srinivasan\n",
              "1    2  ...                                               1997\n",
              "2    3  ...                                        Partnership\n",
              "3    4  ...  S. Ravichandran – 70% Share R. Karthick Balaji...\n",
              "4    5  ...                                         ARRS Group\n",
              "5    6  ...           Retail Trading- Apparels & Baby products\n",
              "6    7  ...                                            Stable.\n",
              "7    8  ...  No. 7,8 & 9, Car Street, Salem- 636001, Tamil ...\n",
              "8    9  ...  (No. 7,8 & 9, Car Street, Salem- 636001, Tamil...\n",
              "9   10  ...  2 showrooms in Salem 1 showroom in Hosur 1 sho...\n",
              "10  11  ...           Mr Ashok Duraisamy, B.Com., F.C.A, Salem\n",
              "11  12  ...                Rs.17.75 crore as on March 31, 2018\n",
              "12  13  ...               No as per NDS dated January 01, 2019\n",
              "13  14  ...                         No as on December 31, 2018\n",
              "14  15  ...            CARE BB- (Reaffirmed on March 19, 2018)\n",
              "15  16  ...                                                Nil\n",
              "\n",
              "[16 rows x 3 columns]"
            ]
          },
          "metadata": {},
          "execution_count": 20
        }
      ]
    },
    {
      "cell_type": "code",
      "metadata": {
        "id": "N54t9FiHcO-P"
      },
      "source": [
        " for idx, row in companydf.iterrows():\n",
        "   if not pd.isnull(row[0]):\n",
        "     if not pd.isnull(row[1]):\n",
        "       if pd.isnull(row[2]):\n",
        "         companydf.at[idx, 2] = companydf.at[idx-1, 2]"
      ],
      "execution_count": 21,
      "outputs": []
    },
    {
      "cell_type": "code",
      "metadata": {
        "colab": {
          "base_uri": "https://localhost:8080/",
          "height": 551
        },
        "id": "-IChM9VlcXR9",
        "outputId": "cb5901c6-539e-4e94-81d6-040b055e58d5"
      },
      "source": [
        "companydf"
      ],
      "execution_count": 22,
      "outputs": [
        {
          "output_type": "execute_result",
          "data": {
            "text/html": [
              "<div>\n",
              "<style scoped>\n",
              "    .dataframe tbody tr th:only-of-type {\n",
              "        vertical-align: middle;\n",
              "    }\n",
              "\n",
              "    .dataframe tbody tr th {\n",
              "        vertical-align: top;\n",
              "    }\n",
              "\n",
              "    .dataframe thead th {\n",
              "        text-align: right;\n",
              "    }\n",
              "</style>\n",
              "<table border=\"1\" class=\"dataframe\">\n",
              "  <thead>\n",
              "    <tr style=\"text-align: right;\">\n",
              "      <th></th>\n",
              "      <th>0</th>\n",
              "      <th>1</th>\n",
              "      <th>2</th>\n",
              "    </tr>\n",
              "  </thead>\n",
              "  <tbody>\n",
              "    <tr>\n",
              "      <th>0</th>\n",
              "      <td>1</td>\n",
              "      <td>Managing Partner</td>\n",
              "      <td>Shri. S. Ravichandran, S/o R. Srinivasan</td>\n",
              "    </tr>\n",
              "    <tr>\n",
              "      <th>1</th>\n",
              "      <td>2</td>\n",
              "      <td>Date of Incorporation</td>\n",
              "      <td>1997</td>\n",
              "    </tr>\n",
              "    <tr>\n",
              "      <th>2</th>\n",
              "      <td>3</td>\n",
              "      <td>Constitution</td>\n",
              "      <td>Partnership</td>\n",
              "    </tr>\n",
              "    <tr>\n",
              "      <th>3</th>\n",
              "      <td>4</td>\n",
              "      <td>Shareholding Pattern</td>\n",
              "      <td>S. Ravichandran – 70% Share R. Karthick Balaji...</td>\n",
              "    </tr>\n",
              "    <tr>\n",
              "      <th>4</th>\n",
              "      <td>5</td>\n",
              "      <td>Group</td>\n",
              "      <td>ARRS Group</td>\n",
              "    </tr>\n",
              "    <tr>\n",
              "      <th>5</th>\n",
              "      <td>6</td>\n",
              "      <td>Nature of Business</td>\n",
              "      <td>Retail Trading- Apparels &amp; Baby products</td>\n",
              "    </tr>\n",
              "    <tr>\n",
              "      <th>6</th>\n",
              "      <td>7</td>\n",
              "      <td>Outlook on industry</td>\n",
              "      <td>Stable.</td>\n",
              "    </tr>\n",
              "    <tr>\n",
              "      <th>7</th>\n",
              "      <td>8</td>\n",
              "      <td>Registered Office/Corporate Office/Administrat...</td>\n",
              "      <td>No. 7,8 &amp; 9, Car Street, Salem- 636001, Tamil ...</td>\n",
              "    </tr>\n",
              "    <tr>\n",
              "      <th>8</th>\n",
              "      <td>9</td>\n",
              "      <td>Controlling Office</td>\n",
              "      <td>(No. 7,8 &amp; 9, Car Street, Salem- 636001, Tamil...</td>\n",
              "    </tr>\n",
              "    <tr>\n",
              "      <th>9</th>\n",
              "      <td>10</td>\n",
              "      <td>Showroom locations</td>\n",
              "      <td>2 showrooms in Salem 1 showroom in Hosur 1 sho...</td>\n",
              "    </tr>\n",
              "    <tr>\n",
              "      <th>10</th>\n",
              "      <td>11</td>\n",
              "      <td>Auditors</td>\n",
              "      <td>Mr Ashok Duraisamy, B.Com., F.C.A, Salem</td>\n",
              "    </tr>\n",
              "    <tr>\n",
              "      <th>11</th>\n",
              "      <td>12</td>\n",
              "      <td>Tangible Networth</td>\n",
              "      <td>Rs.17.75 crore as on March 31, 2018</td>\n",
              "    </tr>\n",
              "    <tr>\n",
              "      <th>12</th>\n",
              "      <td>13</td>\n",
              "      <td>Status of No-defaults and Delays</td>\n",
              "      <td>No as per NDS dated January 01, 2019</td>\n",
              "    </tr>\n",
              "    <tr>\n",
              "      <th>13</th>\n",
              "      <td>14</td>\n",
              "      <td>Wilful Defaulter as per CIBIL?</td>\n",
              "      <td>No as on December 31, 2018</td>\n",
              "    </tr>\n",
              "    <tr>\n",
              "      <th>14</th>\n",
              "      <td>15</td>\n",
              "      <td>Outstanding ratings</td>\n",
              "      <td>CARE BB- (Reaffirmed on March 19, 2018)</td>\n",
              "    </tr>\n",
              "    <tr>\n",
              "      <th>15</th>\n",
              "      <td>16</td>\n",
              "      <td>Ratings of other rating agencies</td>\n",
              "      <td>Nil</td>\n",
              "    </tr>\n",
              "  </tbody>\n",
              "</table>\n",
              "</div>"
            ],
            "text/plain": [
              "     0  ...                                                  2\n",
              "0    1  ...           Shri. S. Ravichandran, S/o R. Srinivasan\n",
              "1    2  ...                                               1997\n",
              "2    3  ...                                        Partnership\n",
              "3    4  ...  S. Ravichandran – 70% Share R. Karthick Balaji...\n",
              "4    5  ...                                         ARRS Group\n",
              "5    6  ...           Retail Trading- Apparels & Baby products\n",
              "6    7  ...                                            Stable.\n",
              "7    8  ...  No. 7,8 & 9, Car Street, Salem- 636001, Tamil ...\n",
              "8    9  ...  (No. 7,8 & 9, Car Street, Salem- 636001, Tamil...\n",
              "9   10  ...  2 showrooms in Salem 1 showroom in Hosur 1 sho...\n",
              "10  11  ...           Mr Ashok Duraisamy, B.Com., F.C.A, Salem\n",
              "11  12  ...                Rs.17.75 crore as on March 31, 2018\n",
              "12  13  ...               No as per NDS dated January 01, 2019\n",
              "13  14  ...                         No as on December 31, 2018\n",
              "14  15  ...            CARE BB- (Reaffirmed on March 19, 2018)\n",
              "15  16  ...                                                Nil\n",
              "\n",
              "[16 rows x 3 columns]"
            ]
          },
          "metadata": {},
          "execution_count": 22
        }
      ]
    },
    {
      "cell_type": "code",
      "metadata": {
        "id": "C1HxmW7cmBV8"
      },
      "source": [
        "companydf.drop(companydf.columns[[0]], axis = 1, inplace = True)"
      ],
      "execution_count": 23,
      "outputs": []
    },
    {
      "cell_type": "code",
      "metadata": {
        "id": "rJxKGLYJK-ZG"
      },
      "source": [
        "companydf_transposed = companydf.T # or companydf.transpose()"
      ],
      "execution_count": 24,
      "outputs": []
    },
    {
      "cell_type": "code",
      "metadata": {
        "colab": {
          "base_uri": "https://localhost:8080/",
          "height": 305
        },
        "id": "LT48mb1EMcRz",
        "outputId": "ad225bfa-0c8b-49d7-828f-f6cd96389e85"
      },
      "source": [
        "companydf_transposed"
      ],
      "execution_count": 25,
      "outputs": [
        {
          "output_type": "execute_result",
          "data": {
            "text/html": [
              "<div>\n",
              "<style scoped>\n",
              "    .dataframe tbody tr th:only-of-type {\n",
              "        vertical-align: middle;\n",
              "    }\n",
              "\n",
              "    .dataframe tbody tr th {\n",
              "        vertical-align: top;\n",
              "    }\n",
              "\n",
              "    .dataframe thead th {\n",
              "        text-align: right;\n",
              "    }\n",
              "</style>\n",
              "<table border=\"1\" class=\"dataframe\">\n",
              "  <thead>\n",
              "    <tr style=\"text-align: right;\">\n",
              "      <th></th>\n",
              "      <th>0</th>\n",
              "      <th>1</th>\n",
              "      <th>2</th>\n",
              "      <th>3</th>\n",
              "      <th>4</th>\n",
              "      <th>5</th>\n",
              "      <th>6</th>\n",
              "      <th>7</th>\n",
              "      <th>8</th>\n",
              "      <th>9</th>\n",
              "      <th>10</th>\n",
              "      <th>11</th>\n",
              "      <th>12</th>\n",
              "      <th>13</th>\n",
              "      <th>14</th>\n",
              "      <th>15</th>\n",
              "    </tr>\n",
              "  </thead>\n",
              "  <tbody>\n",
              "    <tr>\n",
              "      <th>1</th>\n",
              "      <td>Managing Partner</td>\n",
              "      <td>Date of Incorporation</td>\n",
              "      <td>Constitution</td>\n",
              "      <td>Shareholding Pattern</td>\n",
              "      <td>Group</td>\n",
              "      <td>Nature of Business</td>\n",
              "      <td>Outlook on industry</td>\n",
              "      <td>Registered Office/Corporate Office/Administrat...</td>\n",
              "      <td>Controlling Office</td>\n",
              "      <td>Showroom locations</td>\n",
              "      <td>Auditors</td>\n",
              "      <td>Tangible Networth</td>\n",
              "      <td>Status of No-defaults and Delays</td>\n",
              "      <td>Wilful Defaulter as per CIBIL?</td>\n",
              "      <td>Outstanding ratings</td>\n",
              "      <td>Ratings of other rating agencies</td>\n",
              "    </tr>\n",
              "    <tr>\n",
              "      <th>2</th>\n",
              "      <td>Shri. S. Ravichandran, S/o R. Srinivasan</td>\n",
              "      <td>1997</td>\n",
              "      <td>Partnership</td>\n",
              "      <td>S. Ravichandran – 70% Share R. Karthick Balaji...</td>\n",
              "      <td>ARRS Group</td>\n",
              "      <td>Retail Trading- Apparels &amp; Baby products</td>\n",
              "      <td>Stable.</td>\n",
              "      <td>No. 7,8 &amp; 9, Car Street, Salem- 636001, Tamil ...</td>\n",
              "      <td>(No. 7,8 &amp; 9, Car Street, Salem- 636001, Tamil...</td>\n",
              "      <td>2 showrooms in Salem 1 showroom in Hosur 1 sho...</td>\n",
              "      <td>Mr Ashok Duraisamy, B.Com., F.C.A, Salem</td>\n",
              "      <td>Rs.17.75 crore as on March 31, 2018</td>\n",
              "      <td>No as per NDS dated January 01, 2019</td>\n",
              "      <td>No as on December 31, 2018</td>\n",
              "      <td>CARE BB- (Reaffirmed on March 19, 2018)</td>\n",
              "      <td>Nil</td>\n",
              "    </tr>\n",
              "  </tbody>\n",
              "</table>\n",
              "</div>"
            ],
            "text/plain": [
              "                                         0   ...                                15\n",
              "1                          Managing Partner  ...  Ratings of other rating agencies\n",
              "2  Shri. S. Ravichandran, S/o R. Srinivasan  ...                               Nil\n",
              "\n",
              "[2 rows x 16 columns]"
            ]
          },
          "metadata": {},
          "execution_count": 25
        }
      ]
    },
    {
      "cell_type": "code",
      "metadata": {
        "id": "BU78yVAtNJnI"
      },
      "source": [
        "companydf_transposed.rename(columns=companydf_transposed.iloc[0], inplace = True)"
      ],
      "execution_count": 26,
      "outputs": []
    },
    {
      "cell_type": "code",
      "metadata": {
        "colab": {
          "base_uri": "https://localhost:8080/",
          "height": 357
        },
        "id": "qDHBJiFNNek6",
        "outputId": "b7360f47-00dc-45ed-ddc6-eaf784962ab9"
      },
      "source": [
        "companydf_transposed"
      ],
      "execution_count": 27,
      "outputs": [
        {
          "output_type": "execute_result",
          "data": {
            "text/html": [
              "<div>\n",
              "<style scoped>\n",
              "    .dataframe tbody tr th:only-of-type {\n",
              "        vertical-align: middle;\n",
              "    }\n",
              "\n",
              "    .dataframe tbody tr th {\n",
              "        vertical-align: top;\n",
              "    }\n",
              "\n",
              "    .dataframe thead th {\n",
              "        text-align: right;\n",
              "    }\n",
              "</style>\n",
              "<table border=\"1\" class=\"dataframe\">\n",
              "  <thead>\n",
              "    <tr style=\"text-align: right;\">\n",
              "      <th></th>\n",
              "      <th>Managing Partner</th>\n",
              "      <th>Date of Incorporation</th>\n",
              "      <th>Constitution</th>\n",
              "      <th>Shareholding Pattern</th>\n",
              "      <th>Group</th>\n",
              "      <th>Nature of Business</th>\n",
              "      <th>Outlook on industry</th>\n",
              "      <th>Registered Office/Corporate Office/Administrative office</th>\n",
              "      <th>Controlling Office</th>\n",
              "      <th>Showroom locations</th>\n",
              "      <th>Auditors</th>\n",
              "      <th>Tangible Networth</th>\n",
              "      <th>Status of No-defaults and Delays</th>\n",
              "      <th>Wilful Defaulter as per CIBIL?</th>\n",
              "      <th>Outstanding ratings</th>\n",
              "      <th>Ratings of other rating agencies</th>\n",
              "    </tr>\n",
              "  </thead>\n",
              "  <tbody>\n",
              "    <tr>\n",
              "      <th>1</th>\n",
              "      <td>Managing Partner</td>\n",
              "      <td>Date of Incorporation</td>\n",
              "      <td>Constitution</td>\n",
              "      <td>Shareholding Pattern</td>\n",
              "      <td>Group</td>\n",
              "      <td>Nature of Business</td>\n",
              "      <td>Outlook on industry</td>\n",
              "      <td>Registered Office/Corporate Office/Administrat...</td>\n",
              "      <td>Controlling Office</td>\n",
              "      <td>Showroom locations</td>\n",
              "      <td>Auditors</td>\n",
              "      <td>Tangible Networth</td>\n",
              "      <td>Status of No-defaults and Delays</td>\n",
              "      <td>Wilful Defaulter as per CIBIL?</td>\n",
              "      <td>Outstanding ratings</td>\n",
              "      <td>Ratings of other rating agencies</td>\n",
              "    </tr>\n",
              "    <tr>\n",
              "      <th>2</th>\n",
              "      <td>Shri. S. Ravichandran, S/o R. Srinivasan</td>\n",
              "      <td>1997</td>\n",
              "      <td>Partnership</td>\n",
              "      <td>S. Ravichandran – 70% Share R. Karthick Balaji...</td>\n",
              "      <td>ARRS Group</td>\n",
              "      <td>Retail Trading- Apparels &amp; Baby products</td>\n",
              "      <td>Stable.</td>\n",
              "      <td>No. 7,8 &amp; 9, Car Street, Salem- 636001, Tamil ...</td>\n",
              "      <td>(No. 7,8 &amp; 9, Car Street, Salem- 636001, Tamil...</td>\n",
              "      <td>2 showrooms in Salem 1 showroom in Hosur 1 sho...</td>\n",
              "      <td>Mr Ashok Duraisamy, B.Com., F.C.A, Salem</td>\n",
              "      <td>Rs.17.75 crore as on March 31, 2018</td>\n",
              "      <td>No as per NDS dated January 01, 2019</td>\n",
              "      <td>No as on December 31, 2018</td>\n",
              "      <td>CARE BB- (Reaffirmed on March 19, 2018)</td>\n",
              "      <td>Nil</td>\n",
              "    </tr>\n",
              "  </tbody>\n",
              "</table>\n",
              "</div>"
            ],
            "text/plain": [
              "                           Managing Partner  ...  Ratings of other rating agencies\n",
              "1                          Managing Partner  ...  Ratings of other rating agencies\n",
              "2  Shri. S. Ravichandran, S/o R. Srinivasan  ...                               Nil\n",
              "\n",
              "[2 rows x 16 columns]"
            ]
          },
          "metadata": {},
          "execution_count": 27
        }
      ]
    },
    {
      "cell_type": "code",
      "metadata": {
        "id": "Z6awcE6lOA3-"
      },
      "source": [
        "companydf_transposed.drop(labels = [1], axis = 0, inplace = True)"
      ],
      "execution_count": 28,
      "outputs": []
    },
    {
      "cell_type": "code",
      "metadata": {
        "id": "9Ez6CxFrOCtl"
      },
      "source": [
        "companydf_transposed.reset_index(drop = True, inplace = True)"
      ],
      "execution_count": 29,
      "outputs": []
    },
    {
      "cell_type": "code",
      "metadata": {
        "colab": {
          "base_uri": "https://localhost:8080/",
          "height": 257
        },
        "id": "zkxamwFHOMyE",
        "outputId": "be4deb5c-2e1c-48a6-90b9-feb05d15a93d"
      },
      "source": [
        "companydf_transposed"
      ],
      "execution_count": 30,
      "outputs": [
        {
          "output_type": "execute_result",
          "data": {
            "text/html": [
              "<div>\n",
              "<style scoped>\n",
              "    .dataframe tbody tr th:only-of-type {\n",
              "        vertical-align: middle;\n",
              "    }\n",
              "\n",
              "    .dataframe tbody tr th {\n",
              "        vertical-align: top;\n",
              "    }\n",
              "\n",
              "    .dataframe thead th {\n",
              "        text-align: right;\n",
              "    }\n",
              "</style>\n",
              "<table border=\"1\" class=\"dataframe\">\n",
              "  <thead>\n",
              "    <tr style=\"text-align: right;\">\n",
              "      <th></th>\n",
              "      <th>Managing Partner</th>\n",
              "      <th>Date of Incorporation</th>\n",
              "      <th>Constitution</th>\n",
              "      <th>Shareholding Pattern</th>\n",
              "      <th>Group</th>\n",
              "      <th>Nature of Business</th>\n",
              "      <th>Outlook on industry</th>\n",
              "      <th>Registered Office/Corporate Office/Administrative office</th>\n",
              "      <th>Controlling Office</th>\n",
              "      <th>Showroom locations</th>\n",
              "      <th>Auditors</th>\n",
              "      <th>Tangible Networth</th>\n",
              "      <th>Status of No-defaults and Delays</th>\n",
              "      <th>Wilful Defaulter as per CIBIL?</th>\n",
              "      <th>Outstanding ratings</th>\n",
              "      <th>Ratings of other rating agencies</th>\n",
              "    </tr>\n",
              "  </thead>\n",
              "  <tbody>\n",
              "    <tr>\n",
              "      <th>0</th>\n",
              "      <td>Shri. S. Ravichandran, S/o R. Srinivasan</td>\n",
              "      <td>1997</td>\n",
              "      <td>Partnership</td>\n",
              "      <td>S. Ravichandran – 70% Share R. Karthick Balaji...</td>\n",
              "      <td>ARRS Group</td>\n",
              "      <td>Retail Trading- Apparels &amp; Baby products</td>\n",
              "      <td>Stable.</td>\n",
              "      <td>No. 7,8 &amp; 9, Car Street, Salem- 636001, Tamil ...</td>\n",
              "      <td>(No. 7,8 &amp; 9, Car Street, Salem- 636001, Tamil...</td>\n",
              "      <td>2 showrooms in Salem 1 showroom in Hosur 1 sho...</td>\n",
              "      <td>Mr Ashok Duraisamy, B.Com., F.C.A, Salem</td>\n",
              "      <td>Rs.17.75 crore as on March 31, 2018</td>\n",
              "      <td>No as per NDS dated January 01, 2019</td>\n",
              "      <td>No as on December 31, 2018</td>\n",
              "      <td>CARE BB- (Reaffirmed on March 19, 2018)</td>\n",
              "      <td>Nil</td>\n",
              "    </tr>\n",
              "  </tbody>\n",
              "</table>\n",
              "</div>"
            ],
            "text/plain": [
              "                           Managing Partner  ... Ratings of other rating agencies\n",
              "0  Shri. S. Ravichandran, S/o R. Srinivasan  ...                              Nil\n",
              "\n",
              "[1 rows x 16 columns]"
            ]
          },
          "metadata": {},
          "execution_count": 30
        }
      ]
    },
    {
      "cell_type": "code",
      "metadata": {
        "colab": {
          "base_uri": "https://localhost:8080/"
        },
        "id": "1znM3vTCUlIX",
        "outputId": "e5ed634f-d4f9-4f85-ccce-d1b5d0d485f8"
      },
      "source": [
        "companydf_transposed.columns"
      ],
      "execution_count": 31,
      "outputs": [
        {
          "output_type": "execute_result",
          "data": {
            "text/plain": [
              "Index(['Managing Partner', 'Date of Incorporation', 'Constitution',\n",
              "       'Shareholding Pattern', 'Group', 'Nature of Business',\n",
              "       'Outlook on industry',\n",
              "       'Registered Office/Corporate Office/Administrative office',\n",
              "       'Controlling Office', 'Showroom locations', 'Auditors',\n",
              "       'Tangible Networth', 'Status of No-defaults and Delays',\n",
              "       'Wilful Defaulter as per CIBIL?', 'Outstanding ratings',\n",
              "       'Ratings of other rating agencies'],\n",
              "      dtype='object')"
            ]
          },
          "metadata": {},
          "execution_count": 31
        }
      ]
    },
    {
      "cell_type": "code",
      "metadata": {
        "id": "XgfFz5PdUp_D"
      },
      "source": [
        "companydf_transposed.rename(columns = {'Managing Partner' : 'Partner',\n",
        "       'Outlook on industry' : 'Outlook on Industry',\n",
        "       'Registered Office/Corporate Office/Administrative office' : 'Registered Office/Corporate Office/Administrative Office',\n",
        "       'Showroom locations' : 'Project/Plant/Unit/Property/Showroom Locations',\n",
        "       'Tangible Networth' : 'Tangible Net worth', \n",
        "       'Wilful Defaulter as per CIBIL?' : 'Wilful Defaulter as per CIBIL', 'Outstanding ratings' : 'Outstanding rating & Outlook (CARE)',\n",
        "       'Ratings of other rating agencies' : 'Ratings & Outlook of other rating agencies',\n",
        "}, inplace = True)"
      ],
      "execution_count": 32,
      "outputs": []
    },
    {
      "cell_type": "code",
      "metadata": {
        "colab": {
          "base_uri": "https://localhost:8080/",
          "height": 257
        },
        "id": "jGX7jPJna9Nk",
        "outputId": "892228bb-201c-4113-8969-1cffa083fc67"
      },
      "source": [
        "companydf_transposed"
      ],
      "execution_count": 33,
      "outputs": [
        {
          "output_type": "execute_result",
          "data": {
            "text/html": [
              "<div>\n",
              "<style scoped>\n",
              "    .dataframe tbody tr th:only-of-type {\n",
              "        vertical-align: middle;\n",
              "    }\n",
              "\n",
              "    .dataframe tbody tr th {\n",
              "        vertical-align: top;\n",
              "    }\n",
              "\n",
              "    .dataframe thead th {\n",
              "        text-align: right;\n",
              "    }\n",
              "</style>\n",
              "<table border=\"1\" class=\"dataframe\">\n",
              "  <thead>\n",
              "    <tr style=\"text-align: right;\">\n",
              "      <th></th>\n",
              "      <th>Partner</th>\n",
              "      <th>Date of Incorporation</th>\n",
              "      <th>Constitution</th>\n",
              "      <th>Shareholding Pattern</th>\n",
              "      <th>Group</th>\n",
              "      <th>Nature of Business</th>\n",
              "      <th>Outlook on Industry</th>\n",
              "      <th>Registered Office/Corporate Office/Administrative Office</th>\n",
              "      <th>Controlling Office</th>\n",
              "      <th>Project/Plant/Unit/Property/Showroom Locations</th>\n",
              "      <th>Auditors</th>\n",
              "      <th>Tangible Net worth</th>\n",
              "      <th>Status of No-defaults and Delays</th>\n",
              "      <th>Wilful Defaulter as per CIBIL</th>\n",
              "      <th>Outstanding rating &amp; Outlook (CARE)</th>\n",
              "      <th>Ratings &amp; Outlook of other rating agencies</th>\n",
              "    </tr>\n",
              "  </thead>\n",
              "  <tbody>\n",
              "    <tr>\n",
              "      <th>0</th>\n",
              "      <td>Shri. S. Ravichandran, S/o R. Srinivasan</td>\n",
              "      <td>1997</td>\n",
              "      <td>Partnership</td>\n",
              "      <td>S. Ravichandran – 70% Share R. Karthick Balaji...</td>\n",
              "      <td>ARRS Group</td>\n",
              "      <td>Retail Trading- Apparels &amp; Baby products</td>\n",
              "      <td>Stable.</td>\n",
              "      <td>No. 7,8 &amp; 9, Car Street, Salem- 636001, Tamil ...</td>\n",
              "      <td>(No. 7,8 &amp; 9, Car Street, Salem- 636001, Tamil...</td>\n",
              "      <td>2 showrooms in Salem 1 showroom in Hosur 1 sho...</td>\n",
              "      <td>Mr Ashok Duraisamy, B.Com., F.C.A, Salem</td>\n",
              "      <td>Rs.17.75 crore as on March 31, 2018</td>\n",
              "      <td>No as per NDS dated January 01, 2019</td>\n",
              "      <td>No as on December 31, 2018</td>\n",
              "      <td>CARE BB- (Reaffirmed on March 19, 2018)</td>\n",
              "      <td>Nil</td>\n",
              "    </tr>\n",
              "  </tbody>\n",
              "</table>\n",
              "</div>"
            ],
            "text/plain": [
              "                                    Partner  ... Ratings & Outlook of other rating agencies\n",
              "0  Shri. S. Ravichandran, S/o R. Srinivasan  ...                                        Nil\n",
              "\n",
              "[1 rows x 16 columns]"
            ]
          },
          "metadata": {},
          "execution_count": 33
        }
      ]
    },
    {
      "cell_type": "code",
      "metadata": {
        "id": "KxjIu0YWnMFK"
      },
      "source": [
        "# companydf_transposed.to_csv('companybriefprofile.csv', mode='a', header=True)"
      ],
      "execution_count": null,
      "outputs": []
    },
    {
      "cell_type": "code",
      "metadata": {
        "id": "nH6fx8VJiqs9"
      },
      "source": [
        "briefprofile_df = pd.read_csv('companybriefprofile.csv', index_col = 0)"
      ],
      "execution_count": 34,
      "outputs": []
    },
    {
      "cell_type": "code",
      "metadata": {
        "colab": {
          "base_uri": "https://localhost:8080/",
          "height": 951
        },
        "id": "fmrSu8t2LXCq",
        "outputId": "1e431073-40a1-4752-cca9-0dd68305930a"
      },
      "source": [
        "briefprofile_df"
      ],
      "execution_count": 35,
      "outputs": [
        {
          "output_type": "execute_result",
          "data": {
            "text/html": [
              "<div>\n",
              "<style scoped>\n",
              "    .dataframe tbody tr th:only-of-type {\n",
              "        vertical-align: middle;\n",
              "    }\n",
              "\n",
              "    .dataframe tbody tr th {\n",
              "        vertical-align: top;\n",
              "    }\n",
              "\n",
              "    .dataframe thead th {\n",
              "        text-align: right;\n",
              "    }\n",
              "</style>\n",
              "<table border=\"1\" class=\"dataframe\">\n",
              "  <thead>\n",
              "    <tr style=\"text-align: right;\">\n",
              "      <th></th>\n",
              "      <th>Chairman &amp; Managing Director</th>\n",
              "      <th>Date of Incorporation</th>\n",
              "      <th>Constitution</th>\n",
              "      <th>Group</th>\n",
              "      <th>Shareholding Pattern</th>\n",
              "      <th>Nature of Business</th>\n",
              "      <th>Outlook on Industry</th>\n",
              "      <th>Registered Office/Corporate Office/Administrative Office</th>\n",
              "      <th>Controlling Office</th>\n",
              "      <th>CIN/PAN</th>\n",
              "      <th>Project/Plant/Unit/Property Locations</th>\n",
              "      <th>Tangible Net worth</th>\n",
              "      <th>Accounting Standard Followed/ Adopted</th>\n",
              "      <th>Status of No-defaults and Delays</th>\n",
              "      <th>Auditors</th>\n",
              "      <th>Wilful Defaulter as per CIBIL</th>\n",
              "      <th>Outstanding rating &amp; Outlook (CARE)</th>\n",
              "      <th>Ratings &amp; Outlook of other rating agencies</th>\n",
              "      <th>Status of receipts of Bank Statements from Client</th>\n",
              "      <th>Leased out area / Total Area / Occupancy (%)</th>\n",
              "      <th>Director</th>\n",
              "      <th>Managing Director</th>\n",
              "      <th>Manufacturing Facilities</th>\n",
              "      <th>First Year of Adoption of IND-AS</th>\n",
              "      <th>Tangible Net-worth reported under I-GAAP and IND-AS as on the first adoption date</th>\n",
              "      <th>Company Name</th>\n",
              "      <th>Type of Rating</th>\n",
              "      <th>Mandate date</th>\n",
              "      <th>Review Period</th>\n",
              "      <th>Proprietor</th>\n",
              "      <th>Group Entity Details</th>\n",
              "      <th>Main Products/Services</th>\n",
              "      <th>Installed Capacity</th>\n",
              "      <th>Analytical Approach</th>\n",
              "      <th>Applicable Criteria</th>\n",
              "      <th>Partner</th>\n",
              "      <th>Chairman</th>\n",
              "    </tr>\n",
              "  </thead>\n",
              "  <tbody>\n",
              "    <tr>\n",
              "      <th>0</th>\n",
              "      <td>Managed by Board of Directors</td>\n",
              "      <td>June 13, 2008</td>\n",
              "      <td>Private Limited</td>\n",
              "      <td>Avvashya (promoter of Allcargo Logistics)</td>\n",
              "      <td>51% by Allcargo Logistics; 49% by Container Co...</td>\n",
              "      <td>Operations of ICD at Dadri (UP)</td>\n",
              "      <td>Stable</td>\n",
              "      <td>5th Floor, Avashya House, CST Road, Kalina, Sa...</td>\n",
              "      <td>5th Floor, Avashya House, CST Road, Kalina, Sa...</td>\n",
              "      <td>U63023MH2008PTC183494</td>\n",
              "      <td>Dadri (U.P.)</td>\n",
              "      <td>Rs. 25.45 crore as on March 31, 2020.</td>\n",
              "      <td>IND-AS</td>\n",
              "      <td>Nil as per NDS dated August 31, 2020</td>\n",
              "      <td>Mehrotra &amp; Mehrotra, New Delhi</td>\n",
              "      <td>Not appearing as on June 30, 2020 and March 31...</td>\n",
              "      <td>CARE AA (CE); Stable / CARE A1+ (CE)</td>\n",
              "      <td>Accepted Rating: NA Unaccepted Rating:  NA Non...</td>\n",
              "      <td>Not received</td>\n",
              "      <td>NaN</td>\n",
              "      <td>NaN</td>\n",
              "      <td>NaN</td>\n",
              "      <td>NaN</td>\n",
              "      <td>NaN</td>\n",
              "      <td>NaN</td>\n",
              "      <td>NaN</td>\n",
              "      <td>NaN</td>\n",
              "      <td>NaN</td>\n",
              "      <td>NaN</td>\n",
              "      <td>NaN</td>\n",
              "      <td>NaN</td>\n",
              "      <td>NaN</td>\n",
              "      <td>NaN</td>\n",
              "      <td>NaN</td>\n",
              "      <td>NaN</td>\n",
              "      <td>NaN</td>\n",
              "      <td>NaN</td>\n",
              "    </tr>\n",
              "    <tr>\n",
              "      <th>1</th>\n",
              "      <td>Mr. Shashi Kiran Janardhan Shetty</td>\n",
              "      <td>December 22, 2017</td>\n",
              "      <td>Private Limited</td>\n",
              "      <td>Allcargo Group</td>\n",
              "      <td>NaN</td>\n",
              "      <td>Warehousing</td>\n",
              "      <td>NaN</td>\n",
              "      <td>5th Floor, Avashya House, CST Road, Kalina, Sa...</td>\n",
              "      <td>NaN</td>\n",
              "      <td>NaN</td>\n",
              "      <td>Village Khalikpur, Tehsil Badli, Dist. - Jhajj...</td>\n",
              "      <td>Rs. 21.95 cr as on March 31, 2020</td>\n",
              "      <td>NaN</td>\n",
              "      <td>No delays as per NDS dated August 26, 2020 by ...</td>\n",
              "      <td>Shaparia Mehta &amp; Associates LLP</td>\n",
              "      <td>No Wilful Defaulter as on quarter ended Jun 30...</td>\n",
              "      <td>None</td>\n",
              "      <td>None</td>\n",
              "      <td>NaN</td>\n",
              "      <td>930,515 sq. ft. / 11,50,668 sq. ft.  / 80.87%</td>\n",
              "      <td>NaN</td>\n",
              "      <td>NaN</td>\n",
              "      <td>NaN</td>\n",
              "      <td>NaN</td>\n",
              "      <td>NaN</td>\n",
              "      <td>NaN</td>\n",
              "      <td>NaN</td>\n",
              "      <td>NaN</td>\n",
              "      <td>NaN</td>\n",
              "      <td>NaN</td>\n",
              "      <td>NaN</td>\n",
              "      <td>NaN</td>\n",
              "      <td>NaN</td>\n",
              "      <td>NaN</td>\n",
              "      <td>NaN</td>\n",
              "      <td>NaN</td>\n",
              "      <td>NaN</td>\n",
              "    </tr>\n",
              "    <tr>\n",
              "      <th>2</th>\n",
              "      <td>NaN</td>\n",
              "      <td>September 25, 1997</td>\n",
              "      <td>Public Limited (unlisted)</td>\n",
              "      <td>JSW Group</td>\n",
              "      <td>JSW Steel Limited- 100%</td>\n",
              "      <td>Special Purpose Vehicle (SPV) for implementing...</td>\n",
              "      <td>Stable ARCL’s manufactured pellets and coke ar...</td>\n",
              "      <td>JSW Centre Bandra Kurla Complex, Bandra (East)...</td>\n",
              "      <td>Mumbai</td>\n",
              "      <td>U23100MH1997PLC110901</td>\n",
              "      <td>NaN</td>\n",
              "      <td>Rs. 1,849 crore as on March 31, 2020 Rs. 1,947...</td>\n",
              "      <td>IND-AS</td>\n",
              "      <td>No as per NDS dated December 01, 2020</td>\n",
              "      <td>Deloitte Haskins &amp; Sells LLP</td>\n",
              "      <td>No for the quarter ended September 2020 and Ju...</td>\n",
              "      <td>CARE AA-; Stable/ CARE A1+ (revised from CARE ...</td>\n",
              "      <td>Accepted rating: NIL Unaccepted rating: NIL No...</td>\n",
              "      <td>No</td>\n",
              "      <td>NaN</td>\n",
              "      <td>Mr. Prem Pushkar Varma</td>\n",
              "      <td>N.A.</td>\n",
              "      <td>Dolvi Works, Taluka Pen, Dist. Raigad, Maharas...</td>\n",
              "      <td>2016-17 (restated 2015-16)</td>\n",
              "      <td>I-GAAP - Rs.1146.28 crore as on March 31, 2016...</td>\n",
              "      <td>NaN</td>\n",
              "      <td>NaN</td>\n",
              "      <td>NaN</td>\n",
              "      <td>NaN</td>\n",
              "      <td>NaN</td>\n",
              "      <td>NaN</td>\n",
              "      <td>NaN</td>\n",
              "      <td>NaN</td>\n",
              "      <td>NaN</td>\n",
              "      <td>NaN</td>\n",
              "      <td>NaN</td>\n",
              "      <td>NaN</td>\n",
              "    </tr>\n",
              "    <tr>\n",
              "      <th>3</th>\n",
              "      <td>NaN</td>\n",
              "      <td>April 01, 2012</td>\n",
              "      <td>Proprietorship</td>\n",
              "      <td>NaN</td>\n",
              "      <td>Mrs. Chandra Lekha Singh- 100%</td>\n",
              "      <td>Government Contractor</td>\n",
              "      <td>NaN</td>\n",
              "      <td>Sahdeo Sadan, Betiahata, Gorakhpur, U.P.- 273001</td>\n",
              "      <td>Sahdeo Sadan, Betiahata, Gorakhpur, U.P.- 273001</td>\n",
              "      <td>-</td>\n",
              "      <td>NaN</td>\n",
              "      <td>NaN</td>\n",
              "      <td>NaN</td>\n",
              "      <td>NaN</td>\n",
              "      <td>NaN</td>\n",
              "      <td>NaN</td>\n",
              "      <td>NaN</td>\n",
              "      <td>Accepted rating: NA Unaccepted rating: NA Non-...</td>\n",
              "      <td>NaN</td>\n",
              "      <td>NaN</td>\n",
              "      <td>NaN</td>\n",
              "      <td>NaN</td>\n",
              "      <td>NaN</td>\n",
              "      <td>NaN</td>\n",
              "      <td>NaN</td>\n",
              "      <td>Ambey Traders</td>\n",
              "      <td>Bank Facility rating under BASEL II</td>\n",
              "      <td>September 25, 2018</td>\n",
              "      <td>FY16(A)- FY18(A)</td>\n",
              "      <td>Mrs. Chandra Lekha Singh</td>\n",
              "      <td>NaN</td>\n",
              "      <td>Road Construction</td>\n",
              "      <td>NaN</td>\n",
              "      <td>Standalone</td>\n",
              "      <td>1) Criteria on assigning Outlook to Credit Rat...</td>\n",
              "      <td>NaN</td>\n",
              "      <td>NaN</td>\n",
              "    </tr>\n",
              "    <tr>\n",
              "      <th>4</th>\n",
              "      <td>NaN</td>\n",
              "      <td>December 02, 2016</td>\n",
              "      <td>Limited Liability Partnership</td>\n",
              "      <td>-</td>\n",
              "      <td>NaN</td>\n",
              "      <td>Manufacturing of snacks</td>\n",
              "      <td>Stable</td>\n",
              "      <td>D-302, Flex Apartment, Plot No. C-58/22, Secto...</td>\n",
              "      <td>Office No 29, 2nd Floor, WAVE Silver Tower, Se...</td>\n",
              "      <td>AAH-9286</td>\n",
              "      <td>NaN</td>\n",
              "      <td>Rs. 28.35 Cr as on March 31, 2019</td>\n",
              "      <td>I-GAAP</td>\n",
              "      <td>No default as per NDS dated March 01, 2020</td>\n",
              "      <td>M/s PYS &amp; Co. LLP</td>\n",
              "      <td>No as on December 31 and September 30, 2019 (C...</td>\n",
              "      <td>CARE BB+; Stable (Assigned in March 27, 2019) ...</td>\n",
              "      <td>Accepted rating: NA Unaccepted rating: NA Non-...</td>\n",
              "      <td>Yes, no adverse observation as per score me.</td>\n",
              "      <td>NaN</td>\n",
              "      <td>NaN</td>\n",
              "      <td>NaN</td>\n",
              "      <td>Bilol Nala, SIDCO Industrial Area, Bari Brahma...</td>\n",
              "      <td>NaN</td>\n",
              "      <td>NaN</td>\n",
              "      <td>NaN</td>\n",
              "      <td>NaN</td>\n",
              "      <td>NaN</td>\n",
              "      <td>NaN</td>\n",
              "      <td>NaN</td>\n",
              "      <td>NaN</td>\n",
              "      <td>NaN</td>\n",
              "      <td>NaN</td>\n",
              "      <td>NaN</td>\n",
              "      <td>NaN</td>\n",
              "      <td>Rupaal Singh &amp; Harpal Singh</td>\n",
              "      <td>NaN</td>\n",
              "    </tr>\n",
              "    <tr>\n",
              "      <th>5</th>\n",
              "      <td>NaN</td>\n",
              "      <td>June 30, 1967</td>\n",
              "      <td>Public Ltd (Listed)</td>\n",
              "      <td>Ansal Group</td>\n",
              "      <td>Promoter:49.05% &amp; Public: 50.95%  as on Dec 31...</td>\n",
              "      <td>Development of real estate</td>\n",
              "      <td>Stable, Indian economy continued to witness st...</td>\n",
              "      <td>115, Ansal Bhawan, 16 Kasturba Gandhi Marg, Ne...</td>\n",
              "      <td>New Delhi</td>\n",
              "      <td>L45101DL1967PLC004759</td>\n",
              "      <td>NaN</td>\n",
              "      <td>Rs. 1696.57 crore as on March 31, 2017</td>\n",
              "      <td>NaN</td>\n",
              "      <td>NDS not provided by client</td>\n",
              "      <td>S.S. Kothari Mehta &amp; Co</td>\n",
              "      <td>No as on December 31, 2017</td>\n",
              "      <td>CARE D (revised from CARE B (SO) in Feb 2017)</td>\n",
              "      <td>Accepted rating: BWR BB- (SO); Stable assigned...</td>\n",
              "      <td>NaN</td>\n",
              "      <td>NaN</td>\n",
              "      <td>NaN</td>\n",
              "      <td>Mr. Anil Kumar</td>\n",
              "      <td>North India</td>\n",
              "      <td>NaN</td>\n",
              "      <td>NaN</td>\n",
              "      <td>NaN</td>\n",
              "      <td>NaN</td>\n",
              "      <td>NaN</td>\n",
              "      <td>NaN</td>\n",
              "      <td>NaN</td>\n",
              "      <td>NaN</td>\n",
              "      <td>NaN</td>\n",
              "      <td>NaN</td>\n",
              "      <td>NaN</td>\n",
              "      <td>NaN</td>\n",
              "      <td>NaN</td>\n",
              "      <td>Mr. Sushil Ansal</td>\n",
              "    </tr>\n",
              "  </tbody>\n",
              "</table>\n",
              "</div>"
            ],
            "text/plain": [
              "        Chairman & Managing Director  ...          Chairman\n",
              "0      Managed by Board of Directors  ...               NaN\n",
              "1  Mr. Shashi Kiran Janardhan Shetty  ...               NaN\n",
              "2                                NaN  ...               NaN\n",
              "3                                NaN  ...               NaN\n",
              "4                                NaN  ...               NaN\n",
              "5                                NaN  ...  Mr. Sushil Ansal\n",
              "\n",
              "[6 rows x 37 columns]"
            ]
          },
          "metadata": {},
          "execution_count": 35
        }
      ]
    },
    {
      "cell_type": "code",
      "metadata": {
        "colab": {
          "base_uri": "https://localhost:8080/"
        },
        "id": "i1kRF4_hPn4e",
        "outputId": "86b92871-84b9-44cb-9af0-4037287f97c8"
      },
      "source": [
        "briefprofile_df.columns"
      ],
      "execution_count": 36,
      "outputs": [
        {
          "output_type": "execute_result",
          "data": {
            "text/plain": [
              "Index(['Chairman & Managing Director', 'Date of Incorporation', 'Constitution',\n",
              "       'Group', 'Shareholding Pattern', 'Nature of Business',\n",
              "       'Outlook on Industry',\n",
              "       'Registered Office/Corporate Office/Administrative Office',\n",
              "       'Controlling Office', 'CIN/PAN',\n",
              "       'Project/Plant/Unit/Property Locations', 'Tangible Net worth',\n",
              "       'Accounting Standard Followed/ Adopted',\n",
              "       'Status of No-defaults and Delays', 'Auditors',\n",
              "       'Wilful Defaulter as per CIBIL', 'Outstanding rating & Outlook (CARE)',\n",
              "       'Ratings & Outlook of other rating agencies',\n",
              "       'Status of receipts of Bank Statements from Client',\n",
              "       'Leased out area / Total Area / Occupancy (%)', 'Director',\n",
              "       'Managing Director', 'Manufacturing Facilities',\n",
              "       'First Year of Adoption of IND-AS',\n",
              "       'Tangible Net-worth reported under I-GAAP and IND-AS as on the first adoption date',\n",
              "       'Company Name', 'Type of Rating', 'Mandate date', 'Review Period',\n",
              "       'Proprietor', 'Group Entity Details', 'Main Products/Services',\n",
              "       'Installed Capacity', 'Analytical Approach', 'Applicable Criteria',\n",
              "       'Partner', 'Chairman'],\n",
              "      dtype='object')"
            ]
          },
          "metadata": {},
          "execution_count": 36
        }
      ]
    },
    {
      "cell_type": "code",
      "metadata": {
        "id": "NPzOu-S2Ps4p"
      },
      "source": [
        "briefprofile_df.rename(columns = {'Project/Plant/Unit/Property Locations' : 'Project/Plant/Unit/Property/Showroom Locations'}, inplace = True)"
      ],
      "execution_count": 38,
      "outputs": []
    },
    {
      "cell_type": "code",
      "metadata": {
        "id": "wgHnyr7RUfXL",
        "colab": {
          "base_uri": "https://localhost:8080/",
          "height": 951
        },
        "outputId": "1d12891b-2535-4e92-f48b-f96e1eef0341"
      },
      "source": [
        "briefprofile_df"
      ],
      "execution_count": 39,
      "outputs": [
        {
          "output_type": "execute_result",
          "data": {
            "text/html": [
              "<div>\n",
              "<style scoped>\n",
              "    .dataframe tbody tr th:only-of-type {\n",
              "        vertical-align: middle;\n",
              "    }\n",
              "\n",
              "    .dataframe tbody tr th {\n",
              "        vertical-align: top;\n",
              "    }\n",
              "\n",
              "    .dataframe thead th {\n",
              "        text-align: right;\n",
              "    }\n",
              "</style>\n",
              "<table border=\"1\" class=\"dataframe\">\n",
              "  <thead>\n",
              "    <tr style=\"text-align: right;\">\n",
              "      <th></th>\n",
              "      <th>Chairman &amp; Managing Director</th>\n",
              "      <th>Date of Incorporation</th>\n",
              "      <th>Constitution</th>\n",
              "      <th>Group</th>\n",
              "      <th>Shareholding Pattern</th>\n",
              "      <th>Nature of Business</th>\n",
              "      <th>Outlook on Industry</th>\n",
              "      <th>Registered Office/Corporate Office/Administrative Office</th>\n",
              "      <th>Controlling Office</th>\n",
              "      <th>CIN/PAN</th>\n",
              "      <th>Project/Plant/Unit/Property/Showroom Locations</th>\n",
              "      <th>Tangible Net worth</th>\n",
              "      <th>Accounting Standard Followed/ Adopted</th>\n",
              "      <th>Status of No-defaults and Delays</th>\n",
              "      <th>Auditors</th>\n",
              "      <th>Wilful Defaulter as per CIBIL</th>\n",
              "      <th>Outstanding rating &amp; Outlook (CARE)</th>\n",
              "      <th>Ratings &amp; Outlook of other rating agencies</th>\n",
              "      <th>Status of receipts of Bank Statements from Client</th>\n",
              "      <th>Leased out area / Total Area / Occupancy (%)</th>\n",
              "      <th>Director</th>\n",
              "      <th>Managing Director</th>\n",
              "      <th>Manufacturing Facilities</th>\n",
              "      <th>First Year of Adoption of IND-AS</th>\n",
              "      <th>Tangible Net-worth reported under I-GAAP and IND-AS as on the first adoption date</th>\n",
              "      <th>Company Name</th>\n",
              "      <th>Type of Rating</th>\n",
              "      <th>Mandate date</th>\n",
              "      <th>Review Period</th>\n",
              "      <th>Proprietor</th>\n",
              "      <th>Group Entity Details</th>\n",
              "      <th>Main Products/Services</th>\n",
              "      <th>Installed Capacity</th>\n",
              "      <th>Analytical Approach</th>\n",
              "      <th>Applicable Criteria</th>\n",
              "      <th>Partner</th>\n",
              "      <th>Chairman</th>\n",
              "    </tr>\n",
              "  </thead>\n",
              "  <tbody>\n",
              "    <tr>\n",
              "      <th>0</th>\n",
              "      <td>Managed by Board of Directors</td>\n",
              "      <td>June 13, 2008</td>\n",
              "      <td>Private Limited</td>\n",
              "      <td>Avvashya (promoter of Allcargo Logistics)</td>\n",
              "      <td>51% by Allcargo Logistics; 49% by Container Co...</td>\n",
              "      <td>Operations of ICD at Dadri (UP)</td>\n",
              "      <td>Stable</td>\n",
              "      <td>5th Floor, Avashya House, CST Road, Kalina, Sa...</td>\n",
              "      <td>5th Floor, Avashya House, CST Road, Kalina, Sa...</td>\n",
              "      <td>U63023MH2008PTC183494</td>\n",
              "      <td>Dadri (U.P.)</td>\n",
              "      <td>Rs. 25.45 crore as on March 31, 2020.</td>\n",
              "      <td>IND-AS</td>\n",
              "      <td>Nil as per NDS dated August 31, 2020</td>\n",
              "      <td>Mehrotra &amp; Mehrotra, New Delhi</td>\n",
              "      <td>Not appearing as on June 30, 2020 and March 31...</td>\n",
              "      <td>CARE AA (CE); Stable / CARE A1+ (CE)</td>\n",
              "      <td>Accepted Rating: NA Unaccepted Rating:  NA Non...</td>\n",
              "      <td>Not received</td>\n",
              "      <td>NaN</td>\n",
              "      <td>NaN</td>\n",
              "      <td>NaN</td>\n",
              "      <td>NaN</td>\n",
              "      <td>NaN</td>\n",
              "      <td>NaN</td>\n",
              "      <td>NaN</td>\n",
              "      <td>NaN</td>\n",
              "      <td>NaN</td>\n",
              "      <td>NaN</td>\n",
              "      <td>NaN</td>\n",
              "      <td>NaN</td>\n",
              "      <td>NaN</td>\n",
              "      <td>NaN</td>\n",
              "      <td>NaN</td>\n",
              "      <td>NaN</td>\n",
              "      <td>NaN</td>\n",
              "      <td>NaN</td>\n",
              "    </tr>\n",
              "    <tr>\n",
              "      <th>1</th>\n",
              "      <td>Mr. Shashi Kiran Janardhan Shetty</td>\n",
              "      <td>December 22, 2017</td>\n",
              "      <td>Private Limited</td>\n",
              "      <td>Allcargo Group</td>\n",
              "      <td>NaN</td>\n",
              "      <td>Warehousing</td>\n",
              "      <td>NaN</td>\n",
              "      <td>5th Floor, Avashya House, CST Road, Kalina, Sa...</td>\n",
              "      <td>NaN</td>\n",
              "      <td>NaN</td>\n",
              "      <td>Village Khalikpur, Tehsil Badli, Dist. - Jhajj...</td>\n",
              "      <td>Rs. 21.95 cr as on March 31, 2020</td>\n",
              "      <td>NaN</td>\n",
              "      <td>No delays as per NDS dated August 26, 2020 by ...</td>\n",
              "      <td>Shaparia Mehta &amp; Associates LLP</td>\n",
              "      <td>No Wilful Defaulter as on quarter ended Jun 30...</td>\n",
              "      <td>None</td>\n",
              "      <td>None</td>\n",
              "      <td>NaN</td>\n",
              "      <td>930,515 sq. ft. / 11,50,668 sq. ft.  / 80.87%</td>\n",
              "      <td>NaN</td>\n",
              "      <td>NaN</td>\n",
              "      <td>NaN</td>\n",
              "      <td>NaN</td>\n",
              "      <td>NaN</td>\n",
              "      <td>NaN</td>\n",
              "      <td>NaN</td>\n",
              "      <td>NaN</td>\n",
              "      <td>NaN</td>\n",
              "      <td>NaN</td>\n",
              "      <td>NaN</td>\n",
              "      <td>NaN</td>\n",
              "      <td>NaN</td>\n",
              "      <td>NaN</td>\n",
              "      <td>NaN</td>\n",
              "      <td>NaN</td>\n",
              "      <td>NaN</td>\n",
              "    </tr>\n",
              "    <tr>\n",
              "      <th>2</th>\n",
              "      <td>NaN</td>\n",
              "      <td>September 25, 1997</td>\n",
              "      <td>Public Limited (unlisted)</td>\n",
              "      <td>JSW Group</td>\n",
              "      <td>JSW Steel Limited- 100%</td>\n",
              "      <td>Special Purpose Vehicle (SPV) for implementing...</td>\n",
              "      <td>Stable ARCL’s manufactured pellets and coke ar...</td>\n",
              "      <td>JSW Centre Bandra Kurla Complex, Bandra (East)...</td>\n",
              "      <td>Mumbai</td>\n",
              "      <td>U23100MH1997PLC110901</td>\n",
              "      <td>NaN</td>\n",
              "      <td>Rs. 1,849 crore as on March 31, 2020 Rs. 1,947...</td>\n",
              "      <td>IND-AS</td>\n",
              "      <td>No as per NDS dated December 01, 2020</td>\n",
              "      <td>Deloitte Haskins &amp; Sells LLP</td>\n",
              "      <td>No for the quarter ended September 2020 and Ju...</td>\n",
              "      <td>CARE AA-; Stable/ CARE A1+ (revised from CARE ...</td>\n",
              "      <td>Accepted rating: NIL Unaccepted rating: NIL No...</td>\n",
              "      <td>No</td>\n",
              "      <td>NaN</td>\n",
              "      <td>Mr. Prem Pushkar Varma</td>\n",
              "      <td>N.A.</td>\n",
              "      <td>Dolvi Works, Taluka Pen, Dist. Raigad, Maharas...</td>\n",
              "      <td>2016-17 (restated 2015-16)</td>\n",
              "      <td>I-GAAP - Rs.1146.28 crore as on March 31, 2016...</td>\n",
              "      <td>NaN</td>\n",
              "      <td>NaN</td>\n",
              "      <td>NaN</td>\n",
              "      <td>NaN</td>\n",
              "      <td>NaN</td>\n",
              "      <td>NaN</td>\n",
              "      <td>NaN</td>\n",
              "      <td>NaN</td>\n",
              "      <td>NaN</td>\n",
              "      <td>NaN</td>\n",
              "      <td>NaN</td>\n",
              "      <td>NaN</td>\n",
              "    </tr>\n",
              "    <tr>\n",
              "      <th>3</th>\n",
              "      <td>NaN</td>\n",
              "      <td>April 01, 2012</td>\n",
              "      <td>Proprietorship</td>\n",
              "      <td>NaN</td>\n",
              "      <td>Mrs. Chandra Lekha Singh- 100%</td>\n",
              "      <td>Government Contractor</td>\n",
              "      <td>NaN</td>\n",
              "      <td>Sahdeo Sadan, Betiahata, Gorakhpur, U.P.- 273001</td>\n",
              "      <td>Sahdeo Sadan, Betiahata, Gorakhpur, U.P.- 273001</td>\n",
              "      <td>-</td>\n",
              "      <td>NaN</td>\n",
              "      <td>NaN</td>\n",
              "      <td>NaN</td>\n",
              "      <td>NaN</td>\n",
              "      <td>NaN</td>\n",
              "      <td>NaN</td>\n",
              "      <td>NaN</td>\n",
              "      <td>Accepted rating: NA Unaccepted rating: NA Non-...</td>\n",
              "      <td>NaN</td>\n",
              "      <td>NaN</td>\n",
              "      <td>NaN</td>\n",
              "      <td>NaN</td>\n",
              "      <td>NaN</td>\n",
              "      <td>NaN</td>\n",
              "      <td>NaN</td>\n",
              "      <td>Ambey Traders</td>\n",
              "      <td>Bank Facility rating under BASEL II</td>\n",
              "      <td>September 25, 2018</td>\n",
              "      <td>FY16(A)- FY18(A)</td>\n",
              "      <td>Mrs. Chandra Lekha Singh</td>\n",
              "      <td>NaN</td>\n",
              "      <td>Road Construction</td>\n",
              "      <td>NaN</td>\n",
              "      <td>Standalone</td>\n",
              "      <td>1) Criteria on assigning Outlook to Credit Rat...</td>\n",
              "      <td>NaN</td>\n",
              "      <td>NaN</td>\n",
              "    </tr>\n",
              "    <tr>\n",
              "      <th>4</th>\n",
              "      <td>NaN</td>\n",
              "      <td>December 02, 2016</td>\n",
              "      <td>Limited Liability Partnership</td>\n",
              "      <td>-</td>\n",
              "      <td>NaN</td>\n",
              "      <td>Manufacturing of snacks</td>\n",
              "      <td>Stable</td>\n",
              "      <td>D-302, Flex Apartment, Plot No. C-58/22, Secto...</td>\n",
              "      <td>Office No 29, 2nd Floor, WAVE Silver Tower, Se...</td>\n",
              "      <td>AAH-9286</td>\n",
              "      <td>NaN</td>\n",
              "      <td>Rs. 28.35 Cr as on March 31, 2019</td>\n",
              "      <td>I-GAAP</td>\n",
              "      <td>No default as per NDS dated March 01, 2020</td>\n",
              "      <td>M/s PYS &amp; Co. LLP</td>\n",
              "      <td>No as on December 31 and September 30, 2019 (C...</td>\n",
              "      <td>CARE BB+; Stable (Assigned in March 27, 2019) ...</td>\n",
              "      <td>Accepted rating: NA Unaccepted rating: NA Non-...</td>\n",
              "      <td>Yes, no adverse observation as per score me.</td>\n",
              "      <td>NaN</td>\n",
              "      <td>NaN</td>\n",
              "      <td>NaN</td>\n",
              "      <td>Bilol Nala, SIDCO Industrial Area, Bari Brahma...</td>\n",
              "      <td>NaN</td>\n",
              "      <td>NaN</td>\n",
              "      <td>NaN</td>\n",
              "      <td>NaN</td>\n",
              "      <td>NaN</td>\n",
              "      <td>NaN</td>\n",
              "      <td>NaN</td>\n",
              "      <td>NaN</td>\n",
              "      <td>NaN</td>\n",
              "      <td>NaN</td>\n",
              "      <td>NaN</td>\n",
              "      <td>NaN</td>\n",
              "      <td>Rupaal Singh &amp; Harpal Singh</td>\n",
              "      <td>NaN</td>\n",
              "    </tr>\n",
              "    <tr>\n",
              "      <th>5</th>\n",
              "      <td>NaN</td>\n",
              "      <td>June 30, 1967</td>\n",
              "      <td>Public Ltd (Listed)</td>\n",
              "      <td>Ansal Group</td>\n",
              "      <td>Promoter:49.05% &amp; Public: 50.95%  as on Dec 31...</td>\n",
              "      <td>Development of real estate</td>\n",
              "      <td>Stable, Indian economy continued to witness st...</td>\n",
              "      <td>115, Ansal Bhawan, 16 Kasturba Gandhi Marg, Ne...</td>\n",
              "      <td>New Delhi</td>\n",
              "      <td>L45101DL1967PLC004759</td>\n",
              "      <td>NaN</td>\n",
              "      <td>Rs. 1696.57 crore as on March 31, 2017</td>\n",
              "      <td>NaN</td>\n",
              "      <td>NDS not provided by client</td>\n",
              "      <td>S.S. Kothari Mehta &amp; Co</td>\n",
              "      <td>No as on December 31, 2017</td>\n",
              "      <td>CARE D (revised from CARE B (SO) in Feb 2017)</td>\n",
              "      <td>Accepted rating: BWR BB- (SO); Stable assigned...</td>\n",
              "      <td>NaN</td>\n",
              "      <td>NaN</td>\n",
              "      <td>NaN</td>\n",
              "      <td>Mr. Anil Kumar</td>\n",
              "      <td>North India</td>\n",
              "      <td>NaN</td>\n",
              "      <td>NaN</td>\n",
              "      <td>NaN</td>\n",
              "      <td>NaN</td>\n",
              "      <td>NaN</td>\n",
              "      <td>NaN</td>\n",
              "      <td>NaN</td>\n",
              "      <td>NaN</td>\n",
              "      <td>NaN</td>\n",
              "      <td>NaN</td>\n",
              "      <td>NaN</td>\n",
              "      <td>NaN</td>\n",
              "      <td>NaN</td>\n",
              "      <td>Mr. Sushil Ansal</td>\n",
              "    </tr>\n",
              "  </tbody>\n",
              "</table>\n",
              "</div>"
            ],
            "text/plain": [
              "        Chairman & Managing Director  ...          Chairman\n",
              "0      Managed by Board of Directors  ...               NaN\n",
              "1  Mr. Shashi Kiran Janardhan Shetty  ...               NaN\n",
              "2                                NaN  ...               NaN\n",
              "3                                NaN  ...               NaN\n",
              "4                                NaN  ...               NaN\n",
              "5                                NaN  ...  Mr. Sushil Ansal\n",
              "\n",
              "[6 rows x 37 columns]"
            ]
          },
          "metadata": {},
          "execution_count": 39
        }
      ]
    },
    {
      "cell_type": "code",
      "metadata": {
        "colab": {
          "base_uri": "https://localhost:8080/"
        },
        "id": "OE8FOINtjoeD",
        "outputId": "756b5e0e-a8b3-44f9-c9e6-a4eee0097a29"
      },
      "source": [
        "briefprofile_df.shape"
      ],
      "execution_count": 40,
      "outputs": [
        {
          "output_type": "execute_result",
          "data": {
            "text/plain": [
              "(6, 37)"
            ]
          },
          "metadata": {},
          "execution_count": 40
        }
      ]
    },
    {
      "cell_type": "code",
      "metadata": {
        "id": "y7acrqKPMi67"
      },
      "source": [
        "frames1 = [briefprofile_df, companydf_transposed]\n",
        "newcompanydf = pd.concat(frames1)"
      ],
      "execution_count": 41,
      "outputs": []
    },
    {
      "cell_type": "code",
      "metadata": {
        "id": "877dsJXdMs44"
      },
      "source": [
        "newcompanydf.reset_index(drop = True, inplace = True)"
      ],
      "execution_count": 42,
      "outputs": []
    },
    {
      "cell_type": "code",
      "metadata": {
        "colab": {
          "base_uri": "https://localhost:8080/",
          "height": 1000
        },
        "id": "r4hFuII_NAfZ",
        "outputId": "4a9f4128-f102-42a2-a383-e5ed7a484a25"
      },
      "source": [
        "newcompanydf"
      ],
      "execution_count": 43,
      "outputs": [
        {
          "output_type": "execute_result",
          "data": {
            "text/html": [
              "<div>\n",
              "<style scoped>\n",
              "    .dataframe tbody tr th:only-of-type {\n",
              "        vertical-align: middle;\n",
              "    }\n",
              "\n",
              "    .dataframe tbody tr th {\n",
              "        vertical-align: top;\n",
              "    }\n",
              "\n",
              "    .dataframe thead th {\n",
              "        text-align: right;\n",
              "    }\n",
              "</style>\n",
              "<table border=\"1\" class=\"dataframe\">\n",
              "  <thead>\n",
              "    <tr style=\"text-align: right;\">\n",
              "      <th></th>\n",
              "      <th>Chairman &amp; Managing Director</th>\n",
              "      <th>Date of Incorporation</th>\n",
              "      <th>Constitution</th>\n",
              "      <th>Group</th>\n",
              "      <th>Shareholding Pattern</th>\n",
              "      <th>Nature of Business</th>\n",
              "      <th>Outlook on Industry</th>\n",
              "      <th>Registered Office/Corporate Office/Administrative Office</th>\n",
              "      <th>Controlling Office</th>\n",
              "      <th>CIN/PAN</th>\n",
              "      <th>Project/Plant/Unit/Property/Showroom Locations</th>\n",
              "      <th>Tangible Net worth</th>\n",
              "      <th>Accounting Standard Followed/ Adopted</th>\n",
              "      <th>Status of No-defaults and Delays</th>\n",
              "      <th>Auditors</th>\n",
              "      <th>Wilful Defaulter as per CIBIL</th>\n",
              "      <th>Outstanding rating &amp; Outlook (CARE)</th>\n",
              "      <th>Ratings &amp; Outlook of other rating agencies</th>\n",
              "      <th>Status of receipts of Bank Statements from Client</th>\n",
              "      <th>Leased out area / Total Area / Occupancy (%)</th>\n",
              "      <th>Director</th>\n",
              "      <th>Managing Director</th>\n",
              "      <th>Manufacturing Facilities</th>\n",
              "      <th>First Year of Adoption of IND-AS</th>\n",
              "      <th>Tangible Net-worth reported under I-GAAP and IND-AS as on the first adoption date</th>\n",
              "      <th>Company Name</th>\n",
              "      <th>Type of Rating</th>\n",
              "      <th>Mandate date</th>\n",
              "      <th>Review Period</th>\n",
              "      <th>Proprietor</th>\n",
              "      <th>Group Entity Details</th>\n",
              "      <th>Main Products/Services</th>\n",
              "      <th>Installed Capacity</th>\n",
              "      <th>Analytical Approach</th>\n",
              "      <th>Applicable Criteria</th>\n",
              "      <th>Partner</th>\n",
              "      <th>Chairman</th>\n",
              "    </tr>\n",
              "  </thead>\n",
              "  <tbody>\n",
              "    <tr>\n",
              "      <th>0</th>\n",
              "      <td>Managed by Board of Directors</td>\n",
              "      <td>June 13, 2008</td>\n",
              "      <td>Private Limited</td>\n",
              "      <td>Avvashya (promoter of Allcargo Logistics)</td>\n",
              "      <td>51% by Allcargo Logistics; 49% by Container Co...</td>\n",
              "      <td>Operations of ICD at Dadri (UP)</td>\n",
              "      <td>Stable</td>\n",
              "      <td>5th Floor, Avashya House, CST Road, Kalina, Sa...</td>\n",
              "      <td>5th Floor, Avashya House, CST Road, Kalina, Sa...</td>\n",
              "      <td>U63023MH2008PTC183494</td>\n",
              "      <td>Dadri (U.P.)</td>\n",
              "      <td>Rs. 25.45 crore as on March 31, 2020.</td>\n",
              "      <td>IND-AS</td>\n",
              "      <td>Nil as per NDS dated August 31, 2020</td>\n",
              "      <td>Mehrotra &amp; Mehrotra, New Delhi</td>\n",
              "      <td>Not appearing as on June 30, 2020 and March 31...</td>\n",
              "      <td>CARE AA (CE); Stable / CARE A1+ (CE)</td>\n",
              "      <td>Accepted Rating: NA Unaccepted Rating:  NA Non...</td>\n",
              "      <td>Not received</td>\n",
              "      <td>NaN</td>\n",
              "      <td>NaN</td>\n",
              "      <td>NaN</td>\n",
              "      <td>NaN</td>\n",
              "      <td>NaN</td>\n",
              "      <td>NaN</td>\n",
              "      <td>NaN</td>\n",
              "      <td>NaN</td>\n",
              "      <td>NaN</td>\n",
              "      <td>NaN</td>\n",
              "      <td>NaN</td>\n",
              "      <td>NaN</td>\n",
              "      <td>NaN</td>\n",
              "      <td>NaN</td>\n",
              "      <td>NaN</td>\n",
              "      <td>NaN</td>\n",
              "      <td>NaN</td>\n",
              "      <td>NaN</td>\n",
              "    </tr>\n",
              "    <tr>\n",
              "      <th>1</th>\n",
              "      <td>Mr. Shashi Kiran Janardhan Shetty</td>\n",
              "      <td>December 22, 2017</td>\n",
              "      <td>Private Limited</td>\n",
              "      <td>Allcargo Group</td>\n",
              "      <td>NaN</td>\n",
              "      <td>Warehousing</td>\n",
              "      <td>NaN</td>\n",
              "      <td>5th Floor, Avashya House, CST Road, Kalina, Sa...</td>\n",
              "      <td>NaN</td>\n",
              "      <td>NaN</td>\n",
              "      <td>Village Khalikpur, Tehsil Badli, Dist. - Jhajj...</td>\n",
              "      <td>Rs. 21.95 cr as on March 31, 2020</td>\n",
              "      <td>NaN</td>\n",
              "      <td>No delays as per NDS dated August 26, 2020 by ...</td>\n",
              "      <td>Shaparia Mehta &amp; Associates LLP</td>\n",
              "      <td>No Wilful Defaulter as on quarter ended Jun 30...</td>\n",
              "      <td>None</td>\n",
              "      <td>None</td>\n",
              "      <td>NaN</td>\n",
              "      <td>930,515 sq. ft. / 11,50,668 sq. ft.  / 80.87%</td>\n",
              "      <td>NaN</td>\n",
              "      <td>NaN</td>\n",
              "      <td>NaN</td>\n",
              "      <td>NaN</td>\n",
              "      <td>NaN</td>\n",
              "      <td>NaN</td>\n",
              "      <td>NaN</td>\n",
              "      <td>NaN</td>\n",
              "      <td>NaN</td>\n",
              "      <td>NaN</td>\n",
              "      <td>NaN</td>\n",
              "      <td>NaN</td>\n",
              "      <td>NaN</td>\n",
              "      <td>NaN</td>\n",
              "      <td>NaN</td>\n",
              "      <td>NaN</td>\n",
              "      <td>NaN</td>\n",
              "    </tr>\n",
              "    <tr>\n",
              "      <th>2</th>\n",
              "      <td>NaN</td>\n",
              "      <td>September 25, 1997</td>\n",
              "      <td>Public Limited (unlisted)</td>\n",
              "      <td>JSW Group</td>\n",
              "      <td>JSW Steel Limited- 100%</td>\n",
              "      <td>Special Purpose Vehicle (SPV) for implementing...</td>\n",
              "      <td>Stable ARCL’s manufactured pellets and coke ar...</td>\n",
              "      <td>JSW Centre Bandra Kurla Complex, Bandra (East)...</td>\n",
              "      <td>Mumbai</td>\n",
              "      <td>U23100MH1997PLC110901</td>\n",
              "      <td>NaN</td>\n",
              "      <td>Rs. 1,849 crore as on March 31, 2020 Rs. 1,947...</td>\n",
              "      <td>IND-AS</td>\n",
              "      <td>No as per NDS dated December 01, 2020</td>\n",
              "      <td>Deloitte Haskins &amp; Sells LLP</td>\n",
              "      <td>No for the quarter ended September 2020 and Ju...</td>\n",
              "      <td>CARE AA-; Stable/ CARE A1+ (revised from CARE ...</td>\n",
              "      <td>Accepted rating: NIL Unaccepted rating: NIL No...</td>\n",
              "      <td>No</td>\n",
              "      <td>NaN</td>\n",
              "      <td>Mr. Prem Pushkar Varma</td>\n",
              "      <td>N.A.</td>\n",
              "      <td>Dolvi Works, Taluka Pen, Dist. Raigad, Maharas...</td>\n",
              "      <td>2016-17 (restated 2015-16)</td>\n",
              "      <td>I-GAAP - Rs.1146.28 crore as on March 31, 2016...</td>\n",
              "      <td>NaN</td>\n",
              "      <td>NaN</td>\n",
              "      <td>NaN</td>\n",
              "      <td>NaN</td>\n",
              "      <td>NaN</td>\n",
              "      <td>NaN</td>\n",
              "      <td>NaN</td>\n",
              "      <td>NaN</td>\n",
              "      <td>NaN</td>\n",
              "      <td>NaN</td>\n",
              "      <td>NaN</td>\n",
              "      <td>NaN</td>\n",
              "    </tr>\n",
              "    <tr>\n",
              "      <th>3</th>\n",
              "      <td>NaN</td>\n",
              "      <td>April 01, 2012</td>\n",
              "      <td>Proprietorship</td>\n",
              "      <td>NaN</td>\n",
              "      <td>Mrs. Chandra Lekha Singh- 100%</td>\n",
              "      <td>Government Contractor</td>\n",
              "      <td>NaN</td>\n",
              "      <td>Sahdeo Sadan, Betiahata, Gorakhpur, U.P.- 273001</td>\n",
              "      <td>Sahdeo Sadan, Betiahata, Gorakhpur, U.P.- 273001</td>\n",
              "      <td>-</td>\n",
              "      <td>NaN</td>\n",
              "      <td>NaN</td>\n",
              "      <td>NaN</td>\n",
              "      <td>NaN</td>\n",
              "      <td>NaN</td>\n",
              "      <td>NaN</td>\n",
              "      <td>NaN</td>\n",
              "      <td>Accepted rating: NA Unaccepted rating: NA Non-...</td>\n",
              "      <td>NaN</td>\n",
              "      <td>NaN</td>\n",
              "      <td>NaN</td>\n",
              "      <td>NaN</td>\n",
              "      <td>NaN</td>\n",
              "      <td>NaN</td>\n",
              "      <td>NaN</td>\n",
              "      <td>Ambey Traders</td>\n",
              "      <td>Bank Facility rating under BASEL II</td>\n",
              "      <td>September 25, 2018</td>\n",
              "      <td>FY16(A)- FY18(A)</td>\n",
              "      <td>Mrs. Chandra Lekha Singh</td>\n",
              "      <td>NaN</td>\n",
              "      <td>Road Construction</td>\n",
              "      <td>NaN</td>\n",
              "      <td>Standalone</td>\n",
              "      <td>1) Criteria on assigning Outlook to Credit Rat...</td>\n",
              "      <td>NaN</td>\n",
              "      <td>NaN</td>\n",
              "    </tr>\n",
              "    <tr>\n",
              "      <th>4</th>\n",
              "      <td>NaN</td>\n",
              "      <td>December 02, 2016</td>\n",
              "      <td>Limited Liability Partnership</td>\n",
              "      <td>-</td>\n",
              "      <td>NaN</td>\n",
              "      <td>Manufacturing of snacks</td>\n",
              "      <td>Stable</td>\n",
              "      <td>D-302, Flex Apartment, Plot No. C-58/22, Secto...</td>\n",
              "      <td>Office No 29, 2nd Floor, WAVE Silver Tower, Se...</td>\n",
              "      <td>AAH-9286</td>\n",
              "      <td>NaN</td>\n",
              "      <td>Rs. 28.35 Cr as on March 31, 2019</td>\n",
              "      <td>I-GAAP</td>\n",
              "      <td>No default as per NDS dated March 01, 2020</td>\n",
              "      <td>M/s PYS &amp; Co. LLP</td>\n",
              "      <td>No as on December 31 and September 30, 2019 (C...</td>\n",
              "      <td>CARE BB+; Stable (Assigned in March 27, 2019) ...</td>\n",
              "      <td>Accepted rating: NA Unaccepted rating: NA Non-...</td>\n",
              "      <td>Yes, no adverse observation as per score me.</td>\n",
              "      <td>NaN</td>\n",
              "      <td>NaN</td>\n",
              "      <td>NaN</td>\n",
              "      <td>Bilol Nala, SIDCO Industrial Area, Bari Brahma...</td>\n",
              "      <td>NaN</td>\n",
              "      <td>NaN</td>\n",
              "      <td>NaN</td>\n",
              "      <td>NaN</td>\n",
              "      <td>NaN</td>\n",
              "      <td>NaN</td>\n",
              "      <td>NaN</td>\n",
              "      <td>NaN</td>\n",
              "      <td>NaN</td>\n",
              "      <td>NaN</td>\n",
              "      <td>NaN</td>\n",
              "      <td>NaN</td>\n",
              "      <td>Rupaal Singh &amp; Harpal Singh</td>\n",
              "      <td>NaN</td>\n",
              "    </tr>\n",
              "    <tr>\n",
              "      <th>5</th>\n",
              "      <td>NaN</td>\n",
              "      <td>June 30, 1967</td>\n",
              "      <td>Public Ltd (Listed)</td>\n",
              "      <td>Ansal Group</td>\n",
              "      <td>Promoter:49.05% &amp; Public: 50.95%  as on Dec 31...</td>\n",
              "      <td>Development of real estate</td>\n",
              "      <td>Stable, Indian economy continued to witness st...</td>\n",
              "      <td>115, Ansal Bhawan, 16 Kasturba Gandhi Marg, Ne...</td>\n",
              "      <td>New Delhi</td>\n",
              "      <td>L45101DL1967PLC004759</td>\n",
              "      <td>NaN</td>\n",
              "      <td>Rs. 1696.57 crore as on March 31, 2017</td>\n",
              "      <td>NaN</td>\n",
              "      <td>NDS not provided by client</td>\n",
              "      <td>S.S. Kothari Mehta &amp; Co</td>\n",
              "      <td>No as on December 31, 2017</td>\n",
              "      <td>CARE D (revised from CARE B (SO) in Feb 2017)</td>\n",
              "      <td>Accepted rating: BWR BB- (SO); Stable assigned...</td>\n",
              "      <td>NaN</td>\n",
              "      <td>NaN</td>\n",
              "      <td>NaN</td>\n",
              "      <td>Mr. Anil Kumar</td>\n",
              "      <td>North India</td>\n",
              "      <td>NaN</td>\n",
              "      <td>NaN</td>\n",
              "      <td>NaN</td>\n",
              "      <td>NaN</td>\n",
              "      <td>NaN</td>\n",
              "      <td>NaN</td>\n",
              "      <td>NaN</td>\n",
              "      <td>NaN</td>\n",
              "      <td>NaN</td>\n",
              "      <td>NaN</td>\n",
              "      <td>NaN</td>\n",
              "      <td>NaN</td>\n",
              "      <td>NaN</td>\n",
              "      <td>Mr. Sushil Ansal</td>\n",
              "    </tr>\n",
              "    <tr>\n",
              "      <th>6</th>\n",
              "      <td>NaN</td>\n",
              "      <td>1997</td>\n",
              "      <td>Partnership</td>\n",
              "      <td>ARRS Group</td>\n",
              "      <td>S. Ravichandran – 70% Share R. Karthick Balaji...</td>\n",
              "      <td>Retail Trading- Apparels &amp; Baby products</td>\n",
              "      <td>Stable.</td>\n",
              "      <td>No. 7,8 &amp; 9, Car Street, Salem- 636001, Tamil ...</td>\n",
              "      <td>(No. 7,8 &amp; 9, Car Street, Salem- 636001, Tamil...</td>\n",
              "      <td>NaN</td>\n",
              "      <td>2 showrooms in Salem 1 showroom in Hosur 1 sho...</td>\n",
              "      <td>Rs.17.75 crore as on March 31, 2018</td>\n",
              "      <td>NaN</td>\n",
              "      <td>No as per NDS dated January 01, 2019</td>\n",
              "      <td>Mr Ashok Duraisamy, B.Com., F.C.A, Salem</td>\n",
              "      <td>No as on December 31, 2018</td>\n",
              "      <td>CARE BB- (Reaffirmed on March 19, 2018)</td>\n",
              "      <td>Nil</td>\n",
              "      <td>NaN</td>\n",
              "      <td>NaN</td>\n",
              "      <td>NaN</td>\n",
              "      <td>NaN</td>\n",
              "      <td>NaN</td>\n",
              "      <td>NaN</td>\n",
              "      <td>NaN</td>\n",
              "      <td>NaN</td>\n",
              "      <td>NaN</td>\n",
              "      <td>NaN</td>\n",
              "      <td>NaN</td>\n",
              "      <td>NaN</td>\n",
              "      <td>NaN</td>\n",
              "      <td>NaN</td>\n",
              "      <td>NaN</td>\n",
              "      <td>NaN</td>\n",
              "      <td>NaN</td>\n",
              "      <td>Shri. S. Ravichandran, S/o R. Srinivasan</td>\n",
              "      <td>NaN</td>\n",
              "    </tr>\n",
              "  </tbody>\n",
              "</table>\n",
              "</div>"
            ],
            "text/plain": [
              "        Chairman & Managing Director  ...          Chairman\n",
              "0      Managed by Board of Directors  ...               NaN\n",
              "1  Mr. Shashi Kiran Janardhan Shetty  ...               NaN\n",
              "2                                NaN  ...               NaN\n",
              "3                                NaN  ...               NaN\n",
              "4                                NaN  ...               NaN\n",
              "5                                NaN  ...  Mr. Sushil Ansal\n",
              "6                                NaN  ...               NaN\n",
              "\n",
              "[7 rows x 37 columns]"
            ]
          },
          "metadata": {},
          "execution_count": 43
        }
      ]
    },
    {
      "cell_type": "code",
      "metadata": {
        "colab": {
          "base_uri": "https://localhost:8080/"
        },
        "id": "N_YG5CTeNE_0",
        "outputId": "a8540fdd-4e00-4b82-b5ee-2dea5af6ec08"
      },
      "source": [
        "newcompanydf.columns"
      ],
      "execution_count": 44,
      "outputs": [
        {
          "output_type": "execute_result",
          "data": {
            "text/plain": [
              "Index(['Chairman & Managing Director', 'Date of Incorporation', 'Constitution',\n",
              "       'Group', 'Shareholding Pattern', 'Nature of Business',\n",
              "       'Outlook on Industry',\n",
              "       'Registered Office/Corporate Office/Administrative Office',\n",
              "       'Controlling Office', 'CIN/PAN',\n",
              "       'Project/Plant/Unit/Property/Showroom Locations', 'Tangible Net worth',\n",
              "       'Accounting Standard Followed/ Adopted',\n",
              "       'Status of No-defaults and Delays', 'Auditors',\n",
              "       'Wilful Defaulter as per CIBIL', 'Outstanding rating & Outlook (CARE)',\n",
              "       'Ratings & Outlook of other rating agencies',\n",
              "       'Status of receipts of Bank Statements from Client',\n",
              "       'Leased out area / Total Area / Occupancy (%)', 'Director',\n",
              "       'Managing Director', 'Manufacturing Facilities',\n",
              "       'First Year of Adoption of IND-AS',\n",
              "       'Tangible Net-worth reported under I-GAAP and IND-AS as on the first adoption date',\n",
              "       'Company Name', 'Type of Rating', 'Mandate date', 'Review Period',\n",
              "       'Proprietor', 'Group Entity Details', 'Main Products/Services',\n",
              "       'Installed Capacity', 'Analytical Approach', 'Applicable Criteria',\n",
              "       'Partner', 'Chairman'],\n",
              "      dtype='object')"
            ]
          },
          "metadata": {},
          "execution_count": 44
        }
      ]
    },
    {
      "cell_type": "code",
      "metadata": {
        "colab": {
          "base_uri": "https://localhost:8080/"
        },
        "id": "IRRgfhl-jeoE",
        "outputId": "f8c6da07-6071-4d99-e46e-1a8459c28af3"
      },
      "source": [
        "newcompanydf.shape"
      ],
      "execution_count": 45,
      "outputs": [
        {
          "output_type": "execute_result",
          "data": {
            "text/plain": [
              "(7, 37)"
            ]
          },
          "metadata": {},
          "execution_count": 45
        }
      ]
    },
    {
      "cell_type": "code",
      "metadata": {
        "colab": {
          "base_uri": "https://localhost:8080/",
          "height": 17
        },
        "id": "xVCAQwUwf05S",
        "outputId": "a8ac7787-0765-401b-a556-ae3cda65c3c7"
      },
      "source": [
        "newcompanydf.to_csv('companybriefprofile.csv')         \n",
        "files.download('companybriefprofile.csv')"
      ],
      "execution_count": 46,
      "outputs": [
        {
          "output_type": "display_data",
          "data": {
            "application/javascript": [
              "\n",
              "    async function download(id, filename, size) {\n",
              "      if (!google.colab.kernel.accessAllowed) {\n",
              "        return;\n",
              "      }\n",
              "      const div = document.createElement('div');\n",
              "      const label = document.createElement('label');\n",
              "      label.textContent = `Downloading \"${filename}\": `;\n",
              "      div.appendChild(label);\n",
              "      const progress = document.createElement('progress');\n",
              "      progress.max = size;\n",
              "      div.appendChild(progress);\n",
              "      document.body.appendChild(div);\n",
              "\n",
              "      const buffers = [];\n",
              "      let downloaded = 0;\n",
              "\n",
              "      const channel = await google.colab.kernel.comms.open(id);\n",
              "      // Send a message to notify the kernel that we're ready.\n",
              "      channel.send({})\n",
              "\n",
              "      for await (const message of channel.messages) {\n",
              "        // Send a message to notify the kernel that we're ready.\n",
              "        channel.send({})\n",
              "        if (message.buffers) {\n",
              "          for (const buffer of message.buffers) {\n",
              "            buffers.push(buffer);\n",
              "            downloaded += buffer.byteLength;\n",
              "            progress.value = downloaded;\n",
              "          }\n",
              "        }\n",
              "      }\n",
              "      const blob = new Blob(buffers, {type: 'application/binary'});\n",
              "      const a = document.createElement('a');\n",
              "      a.href = window.URL.createObjectURL(blob);\n",
              "      a.download = filename;\n",
              "      div.appendChild(a);\n",
              "      a.click();\n",
              "      div.remove();\n",
              "    }\n",
              "  "
            ],
            "text/plain": [
              "<IPython.core.display.Javascript object>"
            ]
          },
          "metadata": {}
        },
        {
          "output_type": "display_data",
          "data": {
            "application/javascript": [
              "download(\"download_79b49d98-30ab-4a1f-9d61-d01d964f43e5\", \"companybriefprofile.csv\", 6976)"
            ],
            "text/plain": [
              "<IPython.core.display.Javascript object>"
            ]
          },
          "metadata": {}
        }
      ]
    }
  ]
}